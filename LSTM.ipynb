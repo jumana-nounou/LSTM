{
  "nbformat": 4,
  "nbformat_minor": 0,
  "metadata": {
    "colab": {
      "provenance": [],
      "gpuType": "T4"
    },
    "kernelspec": {
      "name": "python3",
      "display_name": "Python 3"
    },
    "language_info": {
      "name": "python"
    },
    "accelerator": "GPU"
  },
  "cells": [
    {
      "cell_type": "code",
      "source": [
        "!pip install pyarabic"
      ],
      "metadata": {
        "id": "oObUfe_6NMLl",
        "colab": {
          "base_uri": "https://localhost:8080/"
        },
        "outputId": "82a5b38d-28c9-4a8d-d4ca-9705c8f0e8a6"
      },
      "execution_count": null,
      "outputs": [
        {
          "output_type": "stream",
          "name": "stdout",
          "text": [
            "Looking in indexes: https://pypi.org/simple, https://us-python.pkg.dev/colab-wheels/public/simple/\n",
            "Requirement already satisfied: pyarabic in /usr/local/lib/python3.10/dist-packages (0.6.15)\n",
            "Requirement already satisfied: six>=1.14.0 in /usr/local/lib/python3.10/dist-packages (from pyarabic) (1.16.0)\n"
          ]
        }
      ]
    },
    {
      "cell_type": "code",
      "source": [
        "!pip install fasttext"
      ],
      "metadata": {
        "colab": {
          "base_uri": "https://localhost:8080/"
        },
        "id": "GgQL_o5m7EZQ",
        "outputId": "710a7097-6f72-4e5c-ce6c-72a7ae623430"
      },
      "execution_count": null,
      "outputs": [
        {
          "output_type": "stream",
          "name": "stdout",
          "text": [
            "Looking in indexes: https://pypi.org/simple, https://us-python.pkg.dev/colab-wheels/public/simple/\n",
            "Requirement already satisfied: fasttext in /usr/local/lib/python3.10/dist-packages (0.9.2)\n",
            "Requirement already satisfied: pybind11>=2.2 in /usr/local/lib/python3.10/dist-packages (from fasttext) (2.10.4)\n",
            "Requirement already satisfied: setuptools>=0.7.0 in /usr/local/lib/python3.10/dist-packages (from fasttext) (67.7.2)\n",
            "Requirement already satisfied: numpy in /usr/local/lib/python3.10/dist-packages (from fasttext) (1.22.4)\n"
          ]
        }
      ]
    },
    {
      "cell_type": "code",
      "source": [
        "!pip install nltk"
      ],
      "metadata": {
        "colab": {
          "base_uri": "https://localhost:8080/"
        },
        "id": "7crwY6bzXKVL",
        "outputId": "3bf68bce-686f-4756-bd5f-48b4c25d8619"
      },
      "execution_count": null,
      "outputs": [
        {
          "output_type": "stream",
          "name": "stdout",
          "text": [
            "Looking in indexes: https://pypi.org/simple, https://us-python.pkg.dev/colab-wheels/public/simple/\n",
            "Requirement already satisfied: nltk in /usr/local/lib/python3.10/dist-packages (3.8.1)\n",
            "Requirement already satisfied: click in /usr/local/lib/python3.10/dist-packages (from nltk) (8.1.3)\n",
            "Requirement already satisfied: joblib in /usr/local/lib/python3.10/dist-packages (from nltk) (1.2.0)\n",
            "Requirement already satisfied: regex>=2021.8.3 in /usr/local/lib/python3.10/dist-packages (from nltk) (2022.10.31)\n",
            "Requirement already satisfied: tqdm in /usr/local/lib/python3.10/dist-packages (from nltk) (4.65.0)\n"
          ]
        }
      ]
    },
    {
      "cell_type": "code",
      "source": [
        "import pandas as pd\n",
        "import pyarabic.araby as araby\n",
        "import re ,string\n",
        "import fasttext\n",
        "from gensim.models.phrases import Phrases, Phraser\n",
        "from gensim.models import FastText\n",
        "from keras.models import Sequential\n",
        "from keras.layers import Dense\n",
        "from keras.layers import Flatten\n",
        "from keras.preprocessing import sequence\n",
        "from keras.layers.convolutional import Conv1D\n",
        "from keras.layers.convolutional import MaxPooling1D\n",
        "from keras.utils import pad_sequences\n",
        "from sklearn.model_selection import train_test_split\n",
        "from keras.utils import to_categorical\n",
        "import numpy as np\n",
        "import numpy\n",
        "from sklearn.feature_extraction.text import TfidfVectorizer\n",
        "from keras.optimizers import Adam\n",
        "from keras.callbacks import EarlyStopping, ModelCheckpoint\n",
        "from keras.layers import LSTM, Dense, Dropout, Reshape\n",
        "from sklearn.feature_extraction.text import TfidfVectorizer\n",
        "from sklearn.preprocessing import LabelEncoder\n",
        "from keras.utils import to_categorical\n",
        "from keras.models import load_model\n",
        "import nltk\n",
        "nltk.download('stopwords')\n",
        "numpy.random.seed(1)\n",
        "from nltk.corpus import stopwords"
      ],
      "metadata": {
        "id": "qvrrsMkqNHvo",
        "colab": {
          "base_uri": "https://localhost:8080/"
        },
        "outputId": "4560a1f8-7236-49f6-c5ce-e4ce02ae0795"
      },
      "execution_count": null,
      "outputs": [
        {
          "output_type": "stream",
          "name": "stderr",
          "text": [
            "[nltk_data] Downloading package stopwords to /root/nltk_data...\n",
            "[nltk_data]   Package stopwords is already up-to-date!\n"
          ]
        }
      ]
    },
    {
      "cell_type": "code",
      "source": [
        "df=pd.read_csv('/content/transformed.csv', encoding='utf-8-sig')"
      ],
      "metadata": {
        "id": "1WQANiiGNP2A"
      },
      "execution_count": null,
      "outputs": []
    },
    {
      "cell_type": "code",
      "source": [
        "shuffled = df.sample(frac=1, random_state=42) \n",
        "\n",
        "selected_rows = shuffled.head(65000)\n",
        "\n",
        "print(selected_rows['dialect'].unique())\n"
      ],
      "metadata": {
        "id": "b74xLwF-DacG",
        "colab": {
          "base_uri": "https://localhost:8080/"
        },
        "outputId": "9b0c839c-9a5d-46d4-bed7-2a726f6e0555"
      },
      "execution_count": null,
      "outputs": [
        {
          "output_type": "stream",
          "name": "stdout",
          "text": [
            "['SA' 'KW' 'OM' 'SY' 'PL' 'LB' 'SD' 'EG' 'MA' 'LY' 'IQ' 'AE' 'BH' 'QA'\n",
            " 'JO' 'YE' 'TN' 'DZ']\n"
          ]
        }
      ]
    },
    {
      "cell_type": "code",
      "source": [
        "selected_rows['transformed'].unique()"
      ],
      "metadata": {
        "id": "vDL6ZNKYNTGF",
        "colab": {
          "base_uri": "https://localhost:8080/"
        },
        "outputId": "8e5ff9bd-5d79-4456-c30a-44e73334e673"
      },
      "execution_count": null,
      "outputs": [
        {
          "output_type": "execute_result",
          "data": {
            "text/plain": [
              "array([ 8, 13, 14,  4,  3, 12, 15, 11,  7,  1,  0, 16, 17,  2,  6,  9,  5,\n",
              "       10])"
            ]
          },
          "metadata": {},
          "execution_count": 55
        }
      ]
    },
    {
      "cell_type": "code",
      "source": [
        "column_name = 'fineText'\n",
        "has_null_values = selected_rows[column_name].isnull().any()\n",
        "\n",
        "if has_null_values:\n",
        "    print(f\"The column '{column_name}' contains null values.\")\n",
        "else:\n",
        "    print(f\"The column '{column_name}' does not contain null values.\")"
      ],
      "metadata": {
        "id": "pnjfW_ooEulo",
        "colab": {
          "base_uri": "https://localhost:8080/"
        },
        "outputId": "b7333ddb-5830-4e21-9b80-afe23e03f351"
      },
      "execution_count": null,
      "outputs": [
        {
          "output_type": "stream",
          "name": "stdout",
          "text": [
            "The column 'fineText' contains null values.\n"
          ]
        }
      ]
    },
    {
      "cell_type": "code",
      "source": [
        "selected_rows.dtypes"
      ],
      "metadata": {
        "id": "bsugkdfnNlyh",
        "colab": {
          "base_uri": "https://localhost:8080/"
        },
        "outputId": "35915dfe-49db-4fbb-b99d-ebe5db377359"
      },
      "execution_count": null,
      "outputs": [
        {
          "output_type": "execute_result",
          "data": {
            "text/plain": [
              "id              int64\n",
              "dialect        object\n",
              "transformed     int64\n",
              "fineText       object\n",
              "dtype: object"
            ]
          },
          "metadata": {},
          "execution_count": 57
        }
      ]
    },
    {
      "cell_type": "code",
      "source": [
        "selected_rows['fineText'] = selected_rows['fineText'].fillna('').astype(str)"
      ],
      "metadata": {
        "id": "yI42-R6QNpxP",
        "colab": {
          "base_uri": "https://localhost:8080/"
        },
        "outputId": "e79a8c46-8f6e-486c-f8ba-a16a6d037ddc"
      },
      "execution_count": null,
      "outputs": [
        {
          "output_type": "stream",
          "name": "stderr",
          "text": [
            "<ipython-input-58-74fcc641c0f8>:1: SettingWithCopyWarning: \n",
            "A value is trying to be set on a copy of a slice from a DataFrame.\n",
            "Try using .loc[row_indexer,col_indexer] = value instead\n",
            "\n",
            "See the caveats in the documentation: https://pandas.pydata.org/pandas-docs/stable/user_guide/indexing.html#returning-a-view-versus-a-copy\n",
            "  selected_rows['fineText'] = selected_rows['fineText'].fillna('').astype(str)\n"
          ]
        }
      ]
    },
    {
      "cell_type": "code",
      "source": [
        "print(selected_rows['fineText'].apply(type).unique())"
      ],
      "metadata": {
        "id": "6ad5jg25NX4L",
        "colab": {
          "base_uri": "https://localhost:8080/"
        },
        "outputId": "afcf46c7-118c-4c5e-ab6e-209b12dd2548"
      },
      "execution_count": null,
      "outputs": [
        {
          "output_type": "stream",
          "name": "stdout",
          "text": [
            "[<class 'str'>]\n"
          ]
        }
      ]
    },
    {
      "cell_type": "markdown",
      "source": [
        "# ***Step 1: Preprocessing***"
      ],
      "metadata": {
        "id": "LtOUnzsQNuRF"
      }
    },
    {
      "cell_type": "markdown",
      "source": [
        "**Remove Arabic Diacritization (tashkeel) like fatha, damma, kasra, shaddah, etc:**"
      ],
      "metadata": {
        "id": "9ob88jcDNwzn"
      }
    },
    {
      "cell_type": "code",
      "source": [
        "selected_rows['fineText'] = selected_rows['fineText'].apply(lambda x: araby.strip_tashkeel(str(x)))\n"
      ],
      "metadata": {
        "id": "iq6hLaKjNtD3",
        "colab": {
          "base_uri": "https://localhost:8080/"
        },
        "outputId": "d745ac34-7083-4a55-99e3-76fd1f3683d6"
      },
      "execution_count": null,
      "outputs": [
        {
          "output_type": "stream",
          "name": "stderr",
          "text": [
            "<ipython-input-60-45f91e9c501a>:1: SettingWithCopyWarning: \n",
            "A value is trying to be set on a copy of a slice from a DataFrame.\n",
            "Try using .loc[row_indexer,col_indexer] = value instead\n",
            "\n",
            "See the caveats in the documentation: https://pandas.pydata.org/pandas-docs/stable/user_guide/indexing.html#returning-a-view-versus-a-copy\n",
            "  selected_rows['fineText'] = selected_rows['fineText'].apply(lambda x: araby.strip_tashkeel(str(x)))\n"
          ]
        }
      ]
    },
    {
      "cell_type": "code",
      "source": [
        "selected_rows.head(100)"
      ],
      "metadata": {
        "id": "14kOmyFUKwBl",
        "colab": {
          "base_uri": "https://localhost:8080/",
          "height": 502
        },
        "outputId": "63e6b769-5fc0-4ef3-fbb1-e959c38b6269"
      },
      "execution_count": null,
      "outputs": [
        {
          "output_type": "execute_result",
          "data": {
            "text/plain": [
              "                         id dialect  transformed  \\\n",
              "217576  1161331866680664064      SA            8   \n",
              "344491   649669594408349696      KW           13   \n",
              "380119   628467008678400000      OM           14   \n",
              "133458  1018050664906329984      SY            4   \n",
              "98921   1171931771346259968      PL            3   \n",
              "...                     ...     ...          ...   \n",
              "291489   960587892908228608      EG           11   \n",
              "388205   878288196789911552      OM           14   \n",
              "410938   883712080259493888      AE           16   \n",
              "360858  1161926977651015680      KW           13   \n",
              "198520  1135581896774160384      SA            8   \n",
              "\n",
              "                                                 fineText  \n",
              "217576   نجاح حج هذا العام منتدى الوطن السعودى علم الل...  \n",
              "344491  بنفس هاليوم قبلسنه تم ايقاف سياره فيها اثنين ش...  \n",
              "380119          احسن الظن فيهم يمكن التبن حاجه حلوه عندهم  \n",
              "133458   هادا من رضا امك عليكى بعتلك ناس حنييتهم بتشبه...  \n",
              "98921        تامر عاشور اكيد الالبوم الجاى مش حيعمله كئيب  \n",
              "...                                                   ...  \n",
              "291489   فى السعيد كمان بس عادى دول بيلعبو فى نادى مصر...  \n",
              "388205                       زمان كنا نساعد ابوى فالحلوى   \n",
              "410938                           حتى زحل حر لكن عندنا مطر  \n",
              "360858   اللى دخلوهم مادخلوهم بالخش وكل شى مكشوف ومعرو...  \n",
              "198520   واتحادنا السعودى ماهمه الا كيف يعطى الدورى لل...  \n",
              "\n",
              "[100 rows x 4 columns]"
            ],
            "text/html": [
              "\n",
              "  <div id=\"df-273efe59-cb6a-4235-beec-d64e17b123bf\">\n",
              "    <div class=\"colab-df-container\">\n",
              "      <div>\n",
              "<style scoped>\n",
              "    .dataframe tbody tr th:only-of-type {\n",
              "        vertical-align: middle;\n",
              "    }\n",
              "\n",
              "    .dataframe tbody tr th {\n",
              "        vertical-align: top;\n",
              "    }\n",
              "\n",
              "    .dataframe thead th {\n",
              "        text-align: right;\n",
              "    }\n",
              "</style>\n",
              "<table border=\"1\" class=\"dataframe\">\n",
              "  <thead>\n",
              "    <tr style=\"text-align: right;\">\n",
              "      <th></th>\n",
              "      <th>id</th>\n",
              "      <th>dialect</th>\n",
              "      <th>transformed</th>\n",
              "      <th>fineText</th>\n",
              "    </tr>\n",
              "  </thead>\n",
              "  <tbody>\n",
              "    <tr>\n",
              "      <th>217576</th>\n",
              "      <td>1161331866680664064</td>\n",
              "      <td>SA</td>\n",
              "      <td>8</td>\n",
              "      <td>نجاح حج هذا العام منتدى الوطن السعودى علم الل...</td>\n",
              "    </tr>\n",
              "    <tr>\n",
              "      <th>344491</th>\n",
              "      <td>649669594408349696</td>\n",
              "      <td>KW</td>\n",
              "      <td>13</td>\n",
              "      <td>بنفس هاليوم قبلسنه تم ايقاف سياره فيها اثنين ش...</td>\n",
              "    </tr>\n",
              "    <tr>\n",
              "      <th>380119</th>\n",
              "      <td>628467008678400000</td>\n",
              "      <td>OM</td>\n",
              "      <td>14</td>\n",
              "      <td>احسن الظن فيهم يمكن التبن حاجه حلوه عندهم</td>\n",
              "    </tr>\n",
              "    <tr>\n",
              "      <th>133458</th>\n",
              "      <td>1018050664906329984</td>\n",
              "      <td>SY</td>\n",
              "      <td>4</td>\n",
              "      <td>هادا من رضا امك عليكى بعتلك ناس حنييتهم بتشبه...</td>\n",
              "    </tr>\n",
              "    <tr>\n",
              "      <th>98921</th>\n",
              "      <td>1171931771346259968</td>\n",
              "      <td>PL</td>\n",
              "      <td>3</td>\n",
              "      <td>تامر عاشور اكيد الالبوم الجاى مش حيعمله كئيب</td>\n",
              "    </tr>\n",
              "    <tr>\n",
              "      <th>...</th>\n",
              "      <td>...</td>\n",
              "      <td>...</td>\n",
              "      <td>...</td>\n",
              "      <td>...</td>\n",
              "    </tr>\n",
              "    <tr>\n",
              "      <th>291489</th>\n",
              "      <td>960587892908228608</td>\n",
              "      <td>EG</td>\n",
              "      <td>11</td>\n",
              "      <td>فى السعيد كمان بس عادى دول بيلعبو فى نادى مصر...</td>\n",
              "    </tr>\n",
              "    <tr>\n",
              "      <th>388205</th>\n",
              "      <td>878288196789911552</td>\n",
              "      <td>OM</td>\n",
              "      <td>14</td>\n",
              "      <td>زمان كنا نساعد ابوى فالحلوى</td>\n",
              "    </tr>\n",
              "    <tr>\n",
              "      <th>410938</th>\n",
              "      <td>883712080259493888</td>\n",
              "      <td>AE</td>\n",
              "      <td>16</td>\n",
              "      <td>حتى زحل حر لكن عندنا مطر</td>\n",
              "    </tr>\n",
              "    <tr>\n",
              "      <th>360858</th>\n",
              "      <td>1161926977651015680</td>\n",
              "      <td>KW</td>\n",
              "      <td>13</td>\n",
              "      <td>اللى دخلوهم مادخلوهم بالخش وكل شى مكشوف ومعرو...</td>\n",
              "    </tr>\n",
              "    <tr>\n",
              "      <th>198520</th>\n",
              "      <td>1135581896774160384</td>\n",
              "      <td>SA</td>\n",
              "      <td>8</td>\n",
              "      <td>واتحادنا السعودى ماهمه الا كيف يعطى الدورى لل...</td>\n",
              "    </tr>\n",
              "  </tbody>\n",
              "</table>\n",
              "<p>100 rows × 4 columns</p>\n",
              "</div>\n",
              "      <button class=\"colab-df-convert\" onclick=\"convertToInteractive('df-273efe59-cb6a-4235-beec-d64e17b123bf')\"\n",
              "              title=\"Convert this dataframe to an interactive table.\"\n",
              "              style=\"display:none;\">\n",
              "        \n",
              "  <svg xmlns=\"http://www.w3.org/2000/svg\" height=\"24px\"viewBox=\"0 0 24 24\"\n",
              "       width=\"24px\">\n",
              "    <path d=\"M0 0h24v24H0V0z\" fill=\"none\"/>\n",
              "    <path d=\"M18.56 5.44l.94 2.06.94-2.06 2.06-.94-2.06-.94-.94-2.06-.94 2.06-2.06.94zm-11 1L8.5 8.5l.94-2.06 2.06-.94-2.06-.94L8.5 2.5l-.94 2.06-2.06.94zm10 10l.94 2.06.94-2.06 2.06-.94-2.06-.94-.94-2.06-.94 2.06-2.06.94z\"/><path d=\"M17.41 7.96l-1.37-1.37c-.4-.4-.92-.59-1.43-.59-.52 0-1.04.2-1.43.59L10.3 9.45l-7.72 7.72c-.78.78-.78 2.05 0 2.83L4 21.41c.39.39.9.59 1.41.59.51 0 1.02-.2 1.41-.59l7.78-7.78 2.81-2.81c.8-.78.8-2.07 0-2.86zM5.41 20L4 18.59l7.72-7.72 1.47 1.35L5.41 20z\"/>\n",
              "  </svg>\n",
              "      </button>\n",
              "      \n",
              "  <style>\n",
              "    .colab-df-container {\n",
              "      display:flex;\n",
              "      flex-wrap:wrap;\n",
              "      gap: 12px;\n",
              "    }\n",
              "\n",
              "    .colab-df-convert {\n",
              "      background-color: #E8F0FE;\n",
              "      border: none;\n",
              "      border-radius: 50%;\n",
              "      cursor: pointer;\n",
              "      display: none;\n",
              "      fill: #1967D2;\n",
              "      height: 32px;\n",
              "      padding: 0 0 0 0;\n",
              "      width: 32px;\n",
              "    }\n",
              "\n",
              "    .colab-df-convert:hover {\n",
              "      background-color: #E2EBFA;\n",
              "      box-shadow: 0px 1px 2px rgba(60, 64, 67, 0.3), 0px 1px 3px 1px rgba(60, 64, 67, 0.15);\n",
              "      fill: #174EA6;\n",
              "    }\n",
              "\n",
              "    [theme=dark] .colab-df-convert {\n",
              "      background-color: #3B4455;\n",
              "      fill: #D2E3FC;\n",
              "    }\n",
              "\n",
              "    [theme=dark] .colab-df-convert:hover {\n",
              "      background-color: #434B5C;\n",
              "      box-shadow: 0px 1px 3px 1px rgba(0, 0, 0, 0.15);\n",
              "      filter: drop-shadow(0px 1px 2px rgba(0, 0, 0, 0.3));\n",
              "      fill: #FFFFFF;\n",
              "    }\n",
              "  </style>\n",
              "\n",
              "      <script>\n",
              "        const buttonEl =\n",
              "          document.querySelector('#df-273efe59-cb6a-4235-beec-d64e17b123bf button.colab-df-convert');\n",
              "        buttonEl.style.display =\n",
              "          google.colab.kernel.accessAllowed ? 'block' : 'none';\n",
              "\n",
              "        async function convertToInteractive(key) {\n",
              "          const element = document.querySelector('#df-273efe59-cb6a-4235-beec-d64e17b123bf');\n",
              "          const dataTable =\n",
              "            await google.colab.kernel.invokeFunction('convertToInteractive',\n",
              "                                                     [key], {});\n",
              "          if (!dataTable) return;\n",
              "\n",
              "          const docLinkHtml = 'Like what you see? Visit the ' +\n",
              "            '<a target=\"_blank\" href=https://colab.research.google.com/notebooks/data_table.ipynb>data table notebook</a>'\n",
              "            + ' to learn more about interactive tables.';\n",
              "          element.innerHTML = '';\n",
              "          dataTable['output_type'] = 'display_data';\n",
              "          await google.colab.output.renderOutput(dataTable, element);\n",
              "          const docLink = document.createElement('div');\n",
              "          docLink.innerHTML = docLinkHtml;\n",
              "          element.appendChild(docLink);\n",
              "        }\n",
              "      </script>\n",
              "    </div>\n",
              "  </div>\n",
              "  "
            ]
          },
          "metadata": {},
          "execution_count": 61
        }
      ]
    },
    {
      "cell_type": "markdown",
      "source": [
        "Removing Arabic Stop Words"
      ],
      "metadata": {
        "id": "SqnltJJvW9X4"
      }
    },
    {
      "cell_type": "code",
      "source": [
        "stop_words = set(stopwords.words('arabic'))\n",
        "\n",
        "def process_text(text):\n",
        "    if isinstance(text, str):\n",
        "        return ' '.join([word for word in text.split() if word not in stop_words])\n",
        "    return ''\n",
        "\n",
        "df['fineText'] = df['fineText'].apply(process_text)\n"
      ],
      "metadata": {
        "id": "d_opova0XAXa"
      },
      "execution_count": null,
      "outputs": []
    },
    {
      "cell_type": "markdown",
      "source": [
        "**Remove escape codes like \\n, \\t, \\\\, etc from text**"
      ],
      "metadata": {
        "id": "JU-b-aBfN2ky"
      }
    },
    {
      "cell_type": "code",
      "source": [
        "selected_rows['fineText'] = selected_rows['fineText'].apply(lambda x :re.sub(r\"(\\\\n|\\\\r|\\\\t|\\\\)\", \"\", x).strip())"
      ],
      "metadata": {
        "id": "Ln5PJI3XN4zb",
        "colab": {
          "base_uri": "https://localhost:8080/"
        },
        "outputId": "d3fe3c32-f0d4-47d5-ca8b-7209aab1ccef"
      },
      "execution_count": null,
      "outputs": [
        {
          "output_type": "stream",
          "name": "stderr",
          "text": [
            "<ipython-input-63-ad9cd3a211d5>:1: SettingWithCopyWarning: \n",
            "A value is trying to be set on a copy of a slice from a DataFrame.\n",
            "Try using .loc[row_indexer,col_indexer] = value instead\n",
            "\n",
            "See the caveats in the documentation: https://pandas.pydata.org/pandas-docs/stable/user_guide/indexing.html#returning-a-view-versus-a-copy\n",
            "  selected_rows['fineText'] = selected_rows['fineText'].apply(lambda x :re.sub(r\"(\\\\n|\\\\r|\\\\t|\\\\)\", \"\", x).strip())\n"
          ]
        }
      ]
    },
    {
      "cell_type": "code",
      "source": [
        "selected_rows.head(1000)"
      ],
      "metadata": {
        "id": "iTismgmWK8rS",
        "colab": {
          "base_uri": "https://localhost:8080/",
          "height": 467
        },
        "outputId": "0beefc0d-b4a3-473a-a77a-b8086791a1fb"
      },
      "execution_count": null,
      "outputs": [
        {
          "output_type": "execute_result",
          "data": {
            "text/plain": [
              "                         id dialect  transformed  \\\n",
              "217576  1161331866680664064      SA            8   \n",
              "344491   649669594408349696      KW           13   \n",
              "380119   628467008678400000      OM           14   \n",
              "133458  1018050664906329984      SY            4   \n",
              "98921   1171931771346259968      PL            3   \n",
              "...                     ...     ...          ...   \n",
              "242834   946146404954722432      DZ           10   \n",
              "201566  1118352179998412800      SA            8   \n",
              "186679  1089546761910259584      MA            7   \n",
              "111631  1105873512756117632      PL            3   \n",
              "311230   453258706877448192      LB           12   \n",
              "\n",
              "                                                 fineText  \n",
              "217576  نجاح حج هذا العام منتدى الوطن السعودى علم اللى...  \n",
              "344491  بنفس هاليوم قبلسنه تم ايقاف سياره فيها اثنين ش...  \n",
              "380119          احسن الظن فيهم يمكن التبن حاجه حلوه عندهم  \n",
              "133458  هادا من رضا امك عليكى بعتلك ناس حنييتهم بتشبه ...  \n",
              "98921        تامر عاشور اكيد الالبوم الجاى مش حيعمله كئيب  \n",
              "...                                                   ...  \n",
              "242834            انتى ما جبتى طاريه ما احب قاعده التعميم  \n",
              "201566  صح الله لسانك محمد الحيسونى ولسانك يابوسعد ابد...  \n",
              "186679                   بغا يقول العزى انا راه باقى راجل  \n",
              "111631  سيبكم من التصدى الرهيب انا اللى مش فاهمه المدا...  \n",
              "311230                 كل ما حط يتا عال بلاقيون عم ياخدوا  \n",
              "\n",
              "[1000 rows x 4 columns]"
            ],
            "text/html": [
              "\n",
              "  <div id=\"df-95886c12-66b1-4297-8885-db26f74ee3aa\">\n",
              "    <div class=\"colab-df-container\">\n",
              "      <div>\n",
              "<style scoped>\n",
              "    .dataframe tbody tr th:only-of-type {\n",
              "        vertical-align: middle;\n",
              "    }\n",
              "\n",
              "    .dataframe tbody tr th {\n",
              "        vertical-align: top;\n",
              "    }\n",
              "\n",
              "    .dataframe thead th {\n",
              "        text-align: right;\n",
              "    }\n",
              "</style>\n",
              "<table border=\"1\" class=\"dataframe\">\n",
              "  <thead>\n",
              "    <tr style=\"text-align: right;\">\n",
              "      <th></th>\n",
              "      <th>id</th>\n",
              "      <th>dialect</th>\n",
              "      <th>transformed</th>\n",
              "      <th>fineText</th>\n",
              "    </tr>\n",
              "  </thead>\n",
              "  <tbody>\n",
              "    <tr>\n",
              "      <th>217576</th>\n",
              "      <td>1161331866680664064</td>\n",
              "      <td>SA</td>\n",
              "      <td>8</td>\n",
              "      <td>نجاح حج هذا العام منتدى الوطن السعودى علم اللى...</td>\n",
              "    </tr>\n",
              "    <tr>\n",
              "      <th>344491</th>\n",
              "      <td>649669594408349696</td>\n",
              "      <td>KW</td>\n",
              "      <td>13</td>\n",
              "      <td>بنفس هاليوم قبلسنه تم ايقاف سياره فيها اثنين ش...</td>\n",
              "    </tr>\n",
              "    <tr>\n",
              "      <th>380119</th>\n",
              "      <td>628467008678400000</td>\n",
              "      <td>OM</td>\n",
              "      <td>14</td>\n",
              "      <td>احسن الظن فيهم يمكن التبن حاجه حلوه عندهم</td>\n",
              "    </tr>\n",
              "    <tr>\n",
              "      <th>133458</th>\n",
              "      <td>1018050664906329984</td>\n",
              "      <td>SY</td>\n",
              "      <td>4</td>\n",
              "      <td>هادا من رضا امك عليكى بعتلك ناس حنييتهم بتشبه ...</td>\n",
              "    </tr>\n",
              "    <tr>\n",
              "      <th>98921</th>\n",
              "      <td>1171931771346259968</td>\n",
              "      <td>PL</td>\n",
              "      <td>3</td>\n",
              "      <td>تامر عاشور اكيد الالبوم الجاى مش حيعمله كئيب</td>\n",
              "    </tr>\n",
              "    <tr>\n",
              "      <th>...</th>\n",
              "      <td>...</td>\n",
              "      <td>...</td>\n",
              "      <td>...</td>\n",
              "      <td>...</td>\n",
              "    </tr>\n",
              "    <tr>\n",
              "      <th>242834</th>\n",
              "      <td>946146404954722432</td>\n",
              "      <td>DZ</td>\n",
              "      <td>10</td>\n",
              "      <td>انتى ما جبتى طاريه ما احب قاعده التعميم</td>\n",
              "    </tr>\n",
              "    <tr>\n",
              "      <th>201566</th>\n",
              "      <td>1118352179998412800</td>\n",
              "      <td>SA</td>\n",
              "      <td>8</td>\n",
              "      <td>صح الله لسانك محمد الحيسونى ولسانك يابوسعد ابد...</td>\n",
              "    </tr>\n",
              "    <tr>\n",
              "      <th>186679</th>\n",
              "      <td>1089546761910259584</td>\n",
              "      <td>MA</td>\n",
              "      <td>7</td>\n",
              "      <td>بغا يقول العزى انا راه باقى راجل</td>\n",
              "    </tr>\n",
              "    <tr>\n",
              "      <th>111631</th>\n",
              "      <td>1105873512756117632</td>\n",
              "      <td>PL</td>\n",
              "      <td>3</td>\n",
              "      <td>سيبكم من التصدى الرهيب انا اللى مش فاهمه المدا...</td>\n",
              "    </tr>\n",
              "    <tr>\n",
              "      <th>311230</th>\n",
              "      <td>453258706877448192</td>\n",
              "      <td>LB</td>\n",
              "      <td>12</td>\n",
              "      <td>كل ما حط يتا عال بلاقيون عم ياخدوا</td>\n",
              "    </tr>\n",
              "  </tbody>\n",
              "</table>\n",
              "<p>1000 rows × 4 columns</p>\n",
              "</div>\n",
              "      <button class=\"colab-df-convert\" onclick=\"convertToInteractive('df-95886c12-66b1-4297-8885-db26f74ee3aa')\"\n",
              "              title=\"Convert this dataframe to an interactive table.\"\n",
              "              style=\"display:none;\">\n",
              "        \n",
              "  <svg xmlns=\"http://www.w3.org/2000/svg\" height=\"24px\"viewBox=\"0 0 24 24\"\n",
              "       width=\"24px\">\n",
              "    <path d=\"M0 0h24v24H0V0z\" fill=\"none\"/>\n",
              "    <path d=\"M18.56 5.44l.94 2.06.94-2.06 2.06-.94-2.06-.94-.94-2.06-.94 2.06-2.06.94zm-11 1L8.5 8.5l.94-2.06 2.06-.94-2.06-.94L8.5 2.5l-.94 2.06-2.06.94zm10 10l.94 2.06.94-2.06 2.06-.94-2.06-.94-.94-2.06-.94 2.06-2.06.94z\"/><path d=\"M17.41 7.96l-1.37-1.37c-.4-.4-.92-.59-1.43-.59-.52 0-1.04.2-1.43.59L10.3 9.45l-7.72 7.72c-.78.78-.78 2.05 0 2.83L4 21.41c.39.39.9.59 1.41.59.51 0 1.02-.2 1.41-.59l7.78-7.78 2.81-2.81c.8-.78.8-2.07 0-2.86zM5.41 20L4 18.59l7.72-7.72 1.47 1.35L5.41 20z\"/>\n",
              "  </svg>\n",
              "      </button>\n",
              "      \n",
              "  <style>\n",
              "    .colab-df-container {\n",
              "      display:flex;\n",
              "      flex-wrap:wrap;\n",
              "      gap: 12px;\n",
              "    }\n",
              "\n",
              "    .colab-df-convert {\n",
              "      background-color: #E8F0FE;\n",
              "      border: none;\n",
              "      border-radius: 50%;\n",
              "      cursor: pointer;\n",
              "      display: none;\n",
              "      fill: #1967D2;\n",
              "      height: 32px;\n",
              "      padding: 0 0 0 0;\n",
              "      width: 32px;\n",
              "    }\n",
              "\n",
              "    .colab-df-convert:hover {\n",
              "      background-color: #E2EBFA;\n",
              "      box-shadow: 0px 1px 2px rgba(60, 64, 67, 0.3), 0px 1px 3px 1px rgba(60, 64, 67, 0.15);\n",
              "      fill: #174EA6;\n",
              "    }\n",
              "\n",
              "    [theme=dark] .colab-df-convert {\n",
              "      background-color: #3B4455;\n",
              "      fill: #D2E3FC;\n",
              "    }\n",
              "\n",
              "    [theme=dark] .colab-df-convert:hover {\n",
              "      background-color: #434B5C;\n",
              "      box-shadow: 0px 1px 3px 1px rgba(0, 0, 0, 0.15);\n",
              "      filter: drop-shadow(0px 1px 2px rgba(0, 0, 0, 0.3));\n",
              "      fill: #FFFFFF;\n",
              "    }\n",
              "  </style>\n",
              "\n",
              "      <script>\n",
              "        const buttonEl =\n",
              "          document.querySelector('#df-95886c12-66b1-4297-8885-db26f74ee3aa button.colab-df-convert');\n",
              "        buttonEl.style.display =\n",
              "          google.colab.kernel.accessAllowed ? 'block' : 'none';\n",
              "\n",
              "        async function convertToInteractive(key) {\n",
              "          const element = document.querySelector('#df-95886c12-66b1-4297-8885-db26f74ee3aa');\n",
              "          const dataTable =\n",
              "            await google.colab.kernel.invokeFunction('convertToInteractive',\n",
              "                                                     [key], {});\n",
              "          if (!dataTable) return;\n",
              "\n",
              "          const docLinkHtml = 'Like what you see? Visit the ' +\n",
              "            '<a target=\"_blank\" href=https://colab.research.google.com/notebooks/data_table.ipynb>data table notebook</a>'\n",
              "            + ' to learn more about interactive tables.';\n",
              "          element.innerHTML = '';\n",
              "          dataTable['output_type'] = 'display_data';\n",
              "          await google.colab.output.renderOutput(dataTable, element);\n",
              "          const docLink = document.createElement('div');\n",
              "          docLink.innerHTML = docLinkHtml;\n",
              "          element.appendChild(docLink);\n",
              "        }\n",
              "      </script>\n",
              "    </div>\n",
              "  </div>\n",
              "  "
            ]
          },
          "metadata": {},
          "execution_count": 64
        }
      ]
    },
    {
      "cell_type": "markdown",
      "source": [
        "**Remove URL from text**"
      ],
      "metadata": {
        "id": "s2aWEl6pN6rI"
      }
    },
    {
      "cell_type": "code",
      "source": [
        "selected_rows['fineText'] = selected_rows['fineText'].apply(lambda x : re.sub(r'http\\S+', '', x, flags=re.MULTILINE))"
      ],
      "metadata": {
        "id": "EhIAUnCTN9k1",
        "colab": {
          "base_uri": "https://localhost:8080/"
        },
        "outputId": "433b8b78-86eb-46e1-bab7-cac4c5bd1454"
      },
      "execution_count": null,
      "outputs": [
        {
          "output_type": "stream",
          "name": "stderr",
          "text": [
            "<ipython-input-65-487c4a0eff67>:1: SettingWithCopyWarning: \n",
            "A value is trying to be set on a copy of a slice from a DataFrame.\n",
            "Try using .loc[row_indexer,col_indexer] = value instead\n",
            "\n",
            "See the caveats in the documentation: https://pandas.pydata.org/pandas-docs/stable/user_guide/indexing.html#returning-a-view-versus-a-copy\n",
            "  selected_rows['fineText'] = selected_rows['fineText'].apply(lambda x : re.sub(r'http\\S+', '', x, flags=re.MULTILINE))\n"
          ]
        }
      ]
    },
    {
      "cell_type": "code",
      "source": [
        "selected_rows.head(1000)"
      ],
      "metadata": {
        "id": "t7CANXlLLCfI",
        "colab": {
          "base_uri": "https://localhost:8080/",
          "height": 467
        },
        "outputId": "4616d343-8932-4fff-c3df-93e4dde0beec"
      },
      "execution_count": null,
      "outputs": [
        {
          "output_type": "execute_result",
          "data": {
            "text/plain": [
              "                         id dialect  transformed  \\\n",
              "217576  1161331866680664064      SA            8   \n",
              "344491   649669594408349696      KW           13   \n",
              "380119   628467008678400000      OM           14   \n",
              "133458  1018050664906329984      SY            4   \n",
              "98921   1171931771346259968      PL            3   \n",
              "...                     ...     ...          ...   \n",
              "242834   946146404954722432      DZ           10   \n",
              "201566  1118352179998412800      SA            8   \n",
              "186679  1089546761910259584      MA            7   \n",
              "111631  1105873512756117632      PL            3   \n",
              "311230   453258706877448192      LB           12   \n",
              "\n",
              "                                                 fineText  \n",
              "217576  نجاح حج هذا العام منتدى الوطن السعودى علم اللى...  \n",
              "344491  بنفس هاليوم قبلسنه تم ايقاف سياره فيها اثنين ش...  \n",
              "380119          احسن الظن فيهم يمكن التبن حاجه حلوه عندهم  \n",
              "133458  هادا من رضا امك عليكى بعتلك ناس حنييتهم بتشبه ...  \n",
              "98921        تامر عاشور اكيد الالبوم الجاى مش حيعمله كئيب  \n",
              "...                                                   ...  \n",
              "242834            انتى ما جبتى طاريه ما احب قاعده التعميم  \n",
              "201566  صح الله لسانك محمد الحيسونى ولسانك يابوسعد ابد...  \n",
              "186679                   بغا يقول العزى انا راه باقى راجل  \n",
              "111631  سيبكم من التصدى الرهيب انا اللى مش فاهمه المدا...  \n",
              "311230                 كل ما حط يتا عال بلاقيون عم ياخدوا  \n",
              "\n",
              "[1000 rows x 4 columns]"
            ],
            "text/html": [
              "\n",
              "  <div id=\"df-e2e02715-ed19-425e-8293-0e028c64c0ec\">\n",
              "    <div class=\"colab-df-container\">\n",
              "      <div>\n",
              "<style scoped>\n",
              "    .dataframe tbody tr th:only-of-type {\n",
              "        vertical-align: middle;\n",
              "    }\n",
              "\n",
              "    .dataframe tbody tr th {\n",
              "        vertical-align: top;\n",
              "    }\n",
              "\n",
              "    .dataframe thead th {\n",
              "        text-align: right;\n",
              "    }\n",
              "</style>\n",
              "<table border=\"1\" class=\"dataframe\">\n",
              "  <thead>\n",
              "    <tr style=\"text-align: right;\">\n",
              "      <th></th>\n",
              "      <th>id</th>\n",
              "      <th>dialect</th>\n",
              "      <th>transformed</th>\n",
              "      <th>fineText</th>\n",
              "    </tr>\n",
              "  </thead>\n",
              "  <tbody>\n",
              "    <tr>\n",
              "      <th>217576</th>\n",
              "      <td>1161331866680664064</td>\n",
              "      <td>SA</td>\n",
              "      <td>8</td>\n",
              "      <td>نجاح حج هذا العام منتدى الوطن السعودى علم اللى...</td>\n",
              "    </tr>\n",
              "    <tr>\n",
              "      <th>344491</th>\n",
              "      <td>649669594408349696</td>\n",
              "      <td>KW</td>\n",
              "      <td>13</td>\n",
              "      <td>بنفس هاليوم قبلسنه تم ايقاف سياره فيها اثنين ش...</td>\n",
              "    </tr>\n",
              "    <tr>\n",
              "      <th>380119</th>\n",
              "      <td>628467008678400000</td>\n",
              "      <td>OM</td>\n",
              "      <td>14</td>\n",
              "      <td>احسن الظن فيهم يمكن التبن حاجه حلوه عندهم</td>\n",
              "    </tr>\n",
              "    <tr>\n",
              "      <th>133458</th>\n",
              "      <td>1018050664906329984</td>\n",
              "      <td>SY</td>\n",
              "      <td>4</td>\n",
              "      <td>هادا من رضا امك عليكى بعتلك ناس حنييتهم بتشبه ...</td>\n",
              "    </tr>\n",
              "    <tr>\n",
              "      <th>98921</th>\n",
              "      <td>1171931771346259968</td>\n",
              "      <td>PL</td>\n",
              "      <td>3</td>\n",
              "      <td>تامر عاشور اكيد الالبوم الجاى مش حيعمله كئيب</td>\n",
              "    </tr>\n",
              "    <tr>\n",
              "      <th>...</th>\n",
              "      <td>...</td>\n",
              "      <td>...</td>\n",
              "      <td>...</td>\n",
              "      <td>...</td>\n",
              "    </tr>\n",
              "    <tr>\n",
              "      <th>242834</th>\n",
              "      <td>946146404954722432</td>\n",
              "      <td>DZ</td>\n",
              "      <td>10</td>\n",
              "      <td>انتى ما جبتى طاريه ما احب قاعده التعميم</td>\n",
              "    </tr>\n",
              "    <tr>\n",
              "      <th>201566</th>\n",
              "      <td>1118352179998412800</td>\n",
              "      <td>SA</td>\n",
              "      <td>8</td>\n",
              "      <td>صح الله لسانك محمد الحيسونى ولسانك يابوسعد ابد...</td>\n",
              "    </tr>\n",
              "    <tr>\n",
              "      <th>186679</th>\n",
              "      <td>1089546761910259584</td>\n",
              "      <td>MA</td>\n",
              "      <td>7</td>\n",
              "      <td>بغا يقول العزى انا راه باقى راجل</td>\n",
              "    </tr>\n",
              "    <tr>\n",
              "      <th>111631</th>\n",
              "      <td>1105873512756117632</td>\n",
              "      <td>PL</td>\n",
              "      <td>3</td>\n",
              "      <td>سيبكم من التصدى الرهيب انا اللى مش فاهمه المدا...</td>\n",
              "    </tr>\n",
              "    <tr>\n",
              "      <th>311230</th>\n",
              "      <td>453258706877448192</td>\n",
              "      <td>LB</td>\n",
              "      <td>12</td>\n",
              "      <td>كل ما حط يتا عال بلاقيون عم ياخدوا</td>\n",
              "    </tr>\n",
              "  </tbody>\n",
              "</table>\n",
              "<p>1000 rows × 4 columns</p>\n",
              "</div>\n",
              "      <button class=\"colab-df-convert\" onclick=\"convertToInteractive('df-e2e02715-ed19-425e-8293-0e028c64c0ec')\"\n",
              "              title=\"Convert this dataframe to an interactive table.\"\n",
              "              style=\"display:none;\">\n",
              "        \n",
              "  <svg xmlns=\"http://www.w3.org/2000/svg\" height=\"24px\"viewBox=\"0 0 24 24\"\n",
              "       width=\"24px\">\n",
              "    <path d=\"M0 0h24v24H0V0z\" fill=\"none\"/>\n",
              "    <path d=\"M18.56 5.44l.94 2.06.94-2.06 2.06-.94-2.06-.94-.94-2.06-.94 2.06-2.06.94zm-11 1L8.5 8.5l.94-2.06 2.06-.94-2.06-.94L8.5 2.5l-.94 2.06-2.06.94zm10 10l.94 2.06.94-2.06 2.06-.94-2.06-.94-.94-2.06-.94 2.06-2.06.94z\"/><path d=\"M17.41 7.96l-1.37-1.37c-.4-.4-.92-.59-1.43-.59-.52 0-1.04.2-1.43.59L10.3 9.45l-7.72 7.72c-.78.78-.78 2.05 0 2.83L4 21.41c.39.39.9.59 1.41.59.51 0 1.02-.2 1.41-.59l7.78-7.78 2.81-2.81c.8-.78.8-2.07 0-2.86zM5.41 20L4 18.59l7.72-7.72 1.47 1.35L5.41 20z\"/>\n",
              "  </svg>\n",
              "      </button>\n",
              "      \n",
              "  <style>\n",
              "    .colab-df-container {\n",
              "      display:flex;\n",
              "      flex-wrap:wrap;\n",
              "      gap: 12px;\n",
              "    }\n",
              "\n",
              "    .colab-df-convert {\n",
              "      background-color: #E8F0FE;\n",
              "      border: none;\n",
              "      border-radius: 50%;\n",
              "      cursor: pointer;\n",
              "      display: none;\n",
              "      fill: #1967D2;\n",
              "      height: 32px;\n",
              "      padding: 0 0 0 0;\n",
              "      width: 32px;\n",
              "    }\n",
              "\n",
              "    .colab-df-convert:hover {\n",
              "      background-color: #E2EBFA;\n",
              "      box-shadow: 0px 1px 2px rgba(60, 64, 67, 0.3), 0px 1px 3px 1px rgba(60, 64, 67, 0.15);\n",
              "      fill: #174EA6;\n",
              "    }\n",
              "\n",
              "    [theme=dark] .colab-df-convert {\n",
              "      background-color: #3B4455;\n",
              "      fill: #D2E3FC;\n",
              "    }\n",
              "\n",
              "    [theme=dark] .colab-df-convert:hover {\n",
              "      background-color: #434B5C;\n",
              "      box-shadow: 0px 1px 3px 1px rgba(0, 0, 0, 0.15);\n",
              "      filter: drop-shadow(0px 1px 2px rgba(0, 0, 0, 0.3));\n",
              "      fill: #FFFFFF;\n",
              "    }\n",
              "  </style>\n",
              "\n",
              "      <script>\n",
              "        const buttonEl =\n",
              "          document.querySelector('#df-e2e02715-ed19-425e-8293-0e028c64c0ec button.colab-df-convert');\n",
              "        buttonEl.style.display =\n",
              "          google.colab.kernel.accessAllowed ? 'block' : 'none';\n",
              "\n",
              "        async function convertToInteractive(key) {\n",
              "          const element = document.querySelector('#df-e2e02715-ed19-425e-8293-0e028c64c0ec');\n",
              "          const dataTable =\n",
              "            await google.colab.kernel.invokeFunction('convertToInteractive',\n",
              "                                                     [key], {});\n",
              "          if (!dataTable) return;\n",
              "\n",
              "          const docLinkHtml = 'Like what you see? Visit the ' +\n",
              "            '<a target=\"_blank\" href=https://colab.research.google.com/notebooks/data_table.ipynb>data table notebook</a>'\n",
              "            + ' to learn more about interactive tables.';\n",
              "          element.innerHTML = '';\n",
              "          dataTable['output_type'] = 'display_data';\n",
              "          await google.colab.output.renderOutput(dataTable, element);\n",
              "          const docLink = document.createElement('div');\n",
              "          docLink.innerHTML = docLinkHtml;\n",
              "          element.appendChild(docLink);\n",
              "        }\n",
              "      </script>\n",
              "    </div>\n",
              "  </div>\n",
              "  "
            ]
          },
          "metadata": {},
          "execution_count": 66
        }
      ]
    },
    {
      "cell_type": "markdown",
      "source": [
        "**Remove username “@handle“ from text**"
      ],
      "metadata": {
        "id": "rVGWr38dOHdU"
      }
    },
    {
      "cell_type": "code",
      "source": [
        "selected_rows['fineText'] = selected_rows['fineText'].apply(lambda x: re.sub(r'@\\w+\\s*', '', x))"
      ],
      "metadata": {
        "id": "xB0MlkfJOJOc",
        "colab": {
          "base_uri": "https://localhost:8080/"
        },
        "outputId": "df19e6a7-1f8b-4dec-a128-dacb6bdc7502"
      },
      "execution_count": null,
      "outputs": [
        {
          "output_type": "stream",
          "name": "stderr",
          "text": [
            "<ipython-input-67-f7b1b94a161c>:1: SettingWithCopyWarning: \n",
            "A value is trying to be set on a copy of a slice from a DataFrame.\n",
            "Try using .loc[row_indexer,col_indexer] = value instead\n",
            "\n",
            "See the caveats in the documentation: https://pandas.pydata.org/pandas-docs/stable/user_guide/indexing.html#returning-a-view-versus-a-copy\n",
            "  selected_rows['fineText'] = selected_rows['fineText'].apply(lambda x: re.sub(r'@\\w+\\s*', '', x))\n"
          ]
        }
      ]
    },
    {
      "cell_type": "code",
      "source": [
        "selected_rows.head(1000)"
      ],
      "metadata": {
        "id": "1k13taGELcCQ",
        "colab": {
          "base_uri": "https://localhost:8080/",
          "height": 467
        },
        "outputId": "5effdf9b-1ad1-4fce-e121-30233a99ed45"
      },
      "execution_count": null,
      "outputs": [
        {
          "output_type": "execute_result",
          "data": {
            "text/plain": [
              "                         id dialect  transformed  \\\n",
              "217576  1161331866680664064      SA            8   \n",
              "344491   649669594408349696      KW           13   \n",
              "380119   628467008678400000      OM           14   \n",
              "133458  1018050664906329984      SY            4   \n",
              "98921   1171931771346259968      PL            3   \n",
              "...                     ...     ...          ...   \n",
              "242834   946146404954722432      DZ           10   \n",
              "201566  1118352179998412800      SA            8   \n",
              "186679  1089546761910259584      MA            7   \n",
              "111631  1105873512756117632      PL            3   \n",
              "311230   453258706877448192      LB           12   \n",
              "\n",
              "                                                 fineText  \n",
              "217576  نجاح حج هذا العام منتدى الوطن السعودى علم اللى...  \n",
              "344491  بنفس هاليوم قبلسنه تم ايقاف سياره فيها اثنين ش...  \n",
              "380119          احسن الظن فيهم يمكن التبن حاجه حلوه عندهم  \n",
              "133458  هادا من رضا امك عليكى بعتلك ناس حنييتهم بتشبه ...  \n",
              "98921        تامر عاشور اكيد الالبوم الجاى مش حيعمله كئيب  \n",
              "...                                                   ...  \n",
              "242834            انتى ما جبتى طاريه ما احب قاعده التعميم  \n",
              "201566  صح الله لسانك محمد الحيسونى ولسانك يابوسعد ابد...  \n",
              "186679                   بغا يقول العزى انا راه باقى راجل  \n",
              "111631  سيبكم من التصدى الرهيب انا اللى مش فاهمه المدا...  \n",
              "311230                 كل ما حط يتا عال بلاقيون عم ياخدوا  \n",
              "\n",
              "[1000 rows x 4 columns]"
            ],
            "text/html": [
              "\n",
              "  <div id=\"df-7ca7223e-5067-4fff-b603-68591e2ae463\">\n",
              "    <div class=\"colab-df-container\">\n",
              "      <div>\n",
              "<style scoped>\n",
              "    .dataframe tbody tr th:only-of-type {\n",
              "        vertical-align: middle;\n",
              "    }\n",
              "\n",
              "    .dataframe tbody tr th {\n",
              "        vertical-align: top;\n",
              "    }\n",
              "\n",
              "    .dataframe thead th {\n",
              "        text-align: right;\n",
              "    }\n",
              "</style>\n",
              "<table border=\"1\" class=\"dataframe\">\n",
              "  <thead>\n",
              "    <tr style=\"text-align: right;\">\n",
              "      <th></th>\n",
              "      <th>id</th>\n",
              "      <th>dialect</th>\n",
              "      <th>transformed</th>\n",
              "      <th>fineText</th>\n",
              "    </tr>\n",
              "  </thead>\n",
              "  <tbody>\n",
              "    <tr>\n",
              "      <th>217576</th>\n",
              "      <td>1161331866680664064</td>\n",
              "      <td>SA</td>\n",
              "      <td>8</td>\n",
              "      <td>نجاح حج هذا العام منتدى الوطن السعودى علم اللى...</td>\n",
              "    </tr>\n",
              "    <tr>\n",
              "      <th>344491</th>\n",
              "      <td>649669594408349696</td>\n",
              "      <td>KW</td>\n",
              "      <td>13</td>\n",
              "      <td>بنفس هاليوم قبلسنه تم ايقاف سياره فيها اثنين ش...</td>\n",
              "    </tr>\n",
              "    <tr>\n",
              "      <th>380119</th>\n",
              "      <td>628467008678400000</td>\n",
              "      <td>OM</td>\n",
              "      <td>14</td>\n",
              "      <td>احسن الظن فيهم يمكن التبن حاجه حلوه عندهم</td>\n",
              "    </tr>\n",
              "    <tr>\n",
              "      <th>133458</th>\n",
              "      <td>1018050664906329984</td>\n",
              "      <td>SY</td>\n",
              "      <td>4</td>\n",
              "      <td>هادا من رضا امك عليكى بعتلك ناس حنييتهم بتشبه ...</td>\n",
              "    </tr>\n",
              "    <tr>\n",
              "      <th>98921</th>\n",
              "      <td>1171931771346259968</td>\n",
              "      <td>PL</td>\n",
              "      <td>3</td>\n",
              "      <td>تامر عاشور اكيد الالبوم الجاى مش حيعمله كئيب</td>\n",
              "    </tr>\n",
              "    <tr>\n",
              "      <th>...</th>\n",
              "      <td>...</td>\n",
              "      <td>...</td>\n",
              "      <td>...</td>\n",
              "      <td>...</td>\n",
              "    </tr>\n",
              "    <tr>\n",
              "      <th>242834</th>\n",
              "      <td>946146404954722432</td>\n",
              "      <td>DZ</td>\n",
              "      <td>10</td>\n",
              "      <td>انتى ما جبتى طاريه ما احب قاعده التعميم</td>\n",
              "    </tr>\n",
              "    <tr>\n",
              "      <th>201566</th>\n",
              "      <td>1118352179998412800</td>\n",
              "      <td>SA</td>\n",
              "      <td>8</td>\n",
              "      <td>صح الله لسانك محمد الحيسونى ولسانك يابوسعد ابد...</td>\n",
              "    </tr>\n",
              "    <tr>\n",
              "      <th>186679</th>\n",
              "      <td>1089546761910259584</td>\n",
              "      <td>MA</td>\n",
              "      <td>7</td>\n",
              "      <td>بغا يقول العزى انا راه باقى راجل</td>\n",
              "    </tr>\n",
              "    <tr>\n",
              "      <th>111631</th>\n",
              "      <td>1105873512756117632</td>\n",
              "      <td>PL</td>\n",
              "      <td>3</td>\n",
              "      <td>سيبكم من التصدى الرهيب انا اللى مش فاهمه المدا...</td>\n",
              "    </tr>\n",
              "    <tr>\n",
              "      <th>311230</th>\n",
              "      <td>453258706877448192</td>\n",
              "      <td>LB</td>\n",
              "      <td>12</td>\n",
              "      <td>كل ما حط يتا عال بلاقيون عم ياخدوا</td>\n",
              "    </tr>\n",
              "  </tbody>\n",
              "</table>\n",
              "<p>1000 rows × 4 columns</p>\n",
              "</div>\n",
              "      <button class=\"colab-df-convert\" onclick=\"convertToInteractive('df-7ca7223e-5067-4fff-b603-68591e2ae463')\"\n",
              "              title=\"Convert this dataframe to an interactive table.\"\n",
              "              style=\"display:none;\">\n",
              "        \n",
              "  <svg xmlns=\"http://www.w3.org/2000/svg\" height=\"24px\"viewBox=\"0 0 24 24\"\n",
              "       width=\"24px\">\n",
              "    <path d=\"M0 0h24v24H0V0z\" fill=\"none\"/>\n",
              "    <path d=\"M18.56 5.44l.94 2.06.94-2.06 2.06-.94-2.06-.94-.94-2.06-.94 2.06-2.06.94zm-11 1L8.5 8.5l.94-2.06 2.06-.94-2.06-.94L8.5 2.5l-.94 2.06-2.06.94zm10 10l.94 2.06.94-2.06 2.06-.94-2.06-.94-.94-2.06-.94 2.06-2.06.94z\"/><path d=\"M17.41 7.96l-1.37-1.37c-.4-.4-.92-.59-1.43-.59-.52 0-1.04.2-1.43.59L10.3 9.45l-7.72 7.72c-.78.78-.78 2.05 0 2.83L4 21.41c.39.39.9.59 1.41.59.51 0 1.02-.2 1.41-.59l7.78-7.78 2.81-2.81c.8-.78.8-2.07 0-2.86zM5.41 20L4 18.59l7.72-7.72 1.47 1.35L5.41 20z\"/>\n",
              "  </svg>\n",
              "      </button>\n",
              "      \n",
              "  <style>\n",
              "    .colab-df-container {\n",
              "      display:flex;\n",
              "      flex-wrap:wrap;\n",
              "      gap: 12px;\n",
              "    }\n",
              "\n",
              "    .colab-df-convert {\n",
              "      background-color: #E8F0FE;\n",
              "      border: none;\n",
              "      border-radius: 50%;\n",
              "      cursor: pointer;\n",
              "      display: none;\n",
              "      fill: #1967D2;\n",
              "      height: 32px;\n",
              "      padding: 0 0 0 0;\n",
              "      width: 32px;\n",
              "    }\n",
              "\n",
              "    .colab-df-convert:hover {\n",
              "      background-color: #E2EBFA;\n",
              "      box-shadow: 0px 1px 2px rgba(60, 64, 67, 0.3), 0px 1px 3px 1px rgba(60, 64, 67, 0.15);\n",
              "      fill: #174EA6;\n",
              "    }\n",
              "\n",
              "    [theme=dark] .colab-df-convert {\n",
              "      background-color: #3B4455;\n",
              "      fill: #D2E3FC;\n",
              "    }\n",
              "\n",
              "    [theme=dark] .colab-df-convert:hover {\n",
              "      background-color: #434B5C;\n",
              "      box-shadow: 0px 1px 3px 1px rgba(0, 0, 0, 0.15);\n",
              "      filter: drop-shadow(0px 1px 2px rgba(0, 0, 0, 0.3));\n",
              "      fill: #FFFFFF;\n",
              "    }\n",
              "  </style>\n",
              "\n",
              "      <script>\n",
              "        const buttonEl =\n",
              "          document.querySelector('#df-7ca7223e-5067-4fff-b603-68591e2ae463 button.colab-df-convert');\n",
              "        buttonEl.style.display =\n",
              "          google.colab.kernel.accessAllowed ? 'block' : 'none';\n",
              "\n",
              "        async function convertToInteractive(key) {\n",
              "          const element = document.querySelector('#df-7ca7223e-5067-4fff-b603-68591e2ae463');\n",
              "          const dataTable =\n",
              "            await google.colab.kernel.invokeFunction('convertToInteractive',\n",
              "                                                     [key], {});\n",
              "          if (!dataTable) return;\n",
              "\n",
              "          const docLinkHtml = 'Like what you see? Visit the ' +\n",
              "            '<a target=\"_blank\" href=https://colab.research.google.com/notebooks/data_table.ipynb>data table notebook</a>'\n",
              "            + ' to learn more about interactive tables.';\n",
              "          element.innerHTML = '';\n",
              "          dataTable['output_type'] = 'display_data';\n",
              "          await google.colab.output.renderOutput(dataTable, element);\n",
              "          const docLink = document.createElement('div');\n",
              "          docLink.innerHTML = docLinkHtml;\n",
              "          element.appendChild(docLink);\n",
              "        }\n",
              "      </script>\n",
              "    </div>\n",
              "  </div>\n",
              "  "
            ]
          },
          "metadata": {},
          "execution_count": 68
        }
      ]
    },
    {
      "cell_type": "code",
      "source": [
        "print(len(selected_rows))"
      ],
      "metadata": {
        "id": "2wfPO-R3ON9n",
        "colab": {
          "base_uri": "https://localhost:8080/"
        },
        "outputId": "2a060ca4-e796-40b6-d747-f0b6ac7c21b8"
      },
      "execution_count": null,
      "outputs": [
        {
          "output_type": "stream",
          "name": "stdout",
          "text": [
            "65000\n"
          ]
        }
      ]
    },
    {
      "cell_type": "markdown",
      "source": [
        "## TFID"
      ],
      "metadata": {
        "id": "P1Z2WJNMnmqC"
      }
    },
    {
      "cell_type": "markdown",
      "source": [
        "Specifying X and y"
      ],
      "metadata": {
        "id": "SCkBpTUEU8nA"
      }
    },
    {
      "cell_type": "code",
      "source": [
        "sentences = selected_rows['fineText']\n",
        "labels = selected_rows['transformed'] \n",
        "\n",
        "X_train, X_test, y_train, y_test = train_test_split(sentences, labels, test_size=0.2, random_state=42)\n"
      ],
      "metadata": {
        "id": "k9MNkTPvNivk"
      },
      "execution_count": null,
      "outputs": []
    },
    {
      "cell_type": "markdown",
      "source": [
        "Converting 'dialects' from categorical labels into numeric form"
      ],
      "metadata": {
        "id": "JkoJX_SiVCYw"
      }
    },
    {
      "cell_type": "code",
      "source": [
        "label_encoder = LabelEncoder()\n",
        "y_train_encoded = label_encoder.fit_transform(y_train)\n",
        "y_test_encoded = label_encoder.transform(y_test)\n",
        "num_classes = len(label_encoder.classes_)\n",
        "y_train_categorical = to_categorical(y_train_encoded, num_classes=num_classes)\n",
        "y_test_categorical = to_categorical(y_test_encoded, num_classes=num_classes)"
      ],
      "metadata": {
        "id": "zx86z5FfYakI"
      },
      "execution_count": null,
      "outputs": []
    },
    {
      "cell_type": "markdown",
      "source": [
        "Feature extraction using Tfid & reshaping to fit the LSTM architecture"
      ],
      "metadata": {
        "id": "6xtr2y-kVY1r"
      }
    },
    {
      "cell_type": "code",
      "source": [
        "vectorizer = TfidfVectorizer(max_features=3000, ngram_range=(1, 2))\n",
        "vectorizer.fit(X_train)\n",
        "\n",
        "X_train_tfidf = vectorizer.transform(X_train).toarray()\n",
        "X_test_tfidf = vectorizer.transform(X_test).toarray()\n",
        "\n",
        "X_train_tfidf = X_train_tfidf.reshape(X_train_tfidf.shape[0], 1, X_train_tfidf.shape[1])\n",
        "X_test_tfidf = X_test_tfidf.reshape(X_test_tfidf.shape[0], 1, X_test_tfidf.shape[1])\n"
      ],
      "metadata": {
        "id": "mbQnmRBUVZl1"
      },
      "execution_count": null,
      "outputs": []
    },
    {
      "cell_type": "markdown",
      "source": [
        "LSTM Architecture"
      ],
      "metadata": {
        "id": "phKlPeQXV4ZQ"
      }
    },
    {
      "cell_type": "code",
      "source": [
        "model = Sequential()\n",
        "model.add(LSTM(512, input_shape=(X_train_tfidf.shape[1], X_train_tfidf.shape[2])))\n",
        "model.add(Dropout(0.2))\n",
        "model.add(Dense(num_classes, activation='sigmoid'))\n",
        "\n",
        "optimizer = Adam(learning_rate=0.0001)\n",
        "model.compile(loss='categorical_crossentropy', optimizer=optimizer, metrics=['accuracy'])\n",
        "\n",
        "early_stopping = EarlyStopping(patience=5, restore_best_weights=True)\n",
        "\n",
        "checkpoint = ModelCheckpoint('model_checkpoint.h5', save_weights_only=True, save_best_only=True)\n",
        "\n",
        "history = model.fit(X_train_tfidf, y_train_categorical, validation_data=(X_test_tfidf, y_test_categorical), epochs=150, batch_size=512, callbacks=[early_stopping, checkpoint])\n",
        "\n",
        "\n",
        "\n",
        "loss, accuracy = model.evaluate(X_test_tfidf, y_test_categorical)\n",
        "print(\"Test Loss:\", loss)\n",
        "print(\"Test Accuracy:\", accuracy)"
      ],
      "metadata": {
        "colab": {
          "base_uri": "https://localhost:8080/"
        },
        "id": "_2dMvU_6V4oY",
        "outputId": "6324d391-13d3-4765-d26d-2fbea738ac16"
      },
      "execution_count": null,
      "outputs": [
        {
          "output_type": "stream",
          "name": "stdout",
          "text": [
            "Epoch 1/150\n",
            "102/102 [==============================] - 40s 378ms/step - loss: 2.8775 - accuracy: 0.1437 - val_loss: 2.8623 - val_accuracy: 0.1386\n",
            "Epoch 2/150\n",
            "102/102 [==============================] - 38s 374ms/step - loss: 2.8390 - accuracy: 0.1378 - val_loss: 2.8162 - val_accuracy: 0.1249\n",
            "Epoch 3/150\n",
            "102/102 [==============================] - 36s 357ms/step - loss: 2.7838 - accuracy: 0.1294 - val_loss: 2.7604 - val_accuracy: 0.1232\n",
            "Epoch 4/150\n",
            "102/102 [==============================] - 37s 360ms/step - loss: 2.7276 - accuracy: 0.1298 - val_loss: 2.7134 - val_accuracy: 0.1244\n",
            "Epoch 5/150\n",
            "102/102 [==============================] - 38s 378ms/step - loss: 2.6814 - accuracy: 0.1325 - val_loss: 2.6748 - val_accuracy: 0.1305\n",
            "Epoch 6/150\n",
            "102/102 [==============================] - 38s 375ms/step - loss: 2.6395 - accuracy: 0.1468 - val_loss: 2.6357 - val_accuracy: 0.1536\n",
            "Epoch 7/150\n",
            "102/102 [==============================] - 36s 356ms/step - loss: 2.5942 - accuracy: 0.1794 - val_loss: 2.5925 - val_accuracy: 0.1917\n",
            "Epoch 8/150\n",
            "102/102 [==============================] - 36s 356ms/step - loss: 2.5442 - accuracy: 0.2157 - val_loss: 2.5451 - val_accuracy: 0.2282\n",
            "Epoch 9/150\n",
            "102/102 [==============================] - 37s 364ms/step - loss: 2.4906 - accuracy: 0.2521 - val_loss: 2.4953 - val_accuracy: 0.2598\n",
            "Epoch 10/150\n",
            "102/102 [==============================] - 36s 357ms/step - loss: 2.4350 - accuracy: 0.2813 - val_loss: 2.4453 - val_accuracy: 0.2819\n",
            "Epoch 11/150\n",
            "102/102 [==============================] - 37s 365ms/step - loss: 2.3796 - accuracy: 0.3020 - val_loss: 2.3965 - val_accuracy: 0.2988\n",
            "Epoch 12/150\n",
            "102/102 [==============================] - 36s 357ms/step - loss: 2.3256 - accuracy: 0.3216 - val_loss: 2.3503 - val_accuracy: 0.3094\n",
            "Epoch 13/150\n",
            "102/102 [==============================] - 39s 380ms/step - loss: 2.2741 - accuracy: 0.3347 - val_loss: 2.3072 - val_accuracy: 0.3193\n",
            "Epoch 14/150\n",
            "102/102 [==============================] - 38s 374ms/step - loss: 2.2256 - accuracy: 0.3461 - val_loss: 2.2673 - val_accuracy: 0.3268\n",
            "Epoch 15/150\n",
            "102/102 [==============================] - 38s 371ms/step - loss: 2.1800 - accuracy: 0.3584 - val_loss: 2.2307 - val_accuracy: 0.3342\n",
            "Epoch 16/150\n",
            "102/102 [==============================] - 38s 376ms/step - loss: 2.1373 - accuracy: 0.3665 - val_loss: 2.1974 - val_accuracy: 0.3418\n",
            "Epoch 17/150\n",
            "102/102 [==============================] - 37s 367ms/step - loss: 2.0976 - accuracy: 0.3766 - val_loss: 2.1671 - val_accuracy: 0.3486\n",
            "Epoch 18/150\n",
            "102/102 [==============================] - 37s 366ms/step - loss: 2.0605 - accuracy: 0.3868 - val_loss: 2.1396 - val_accuracy: 0.3536\n",
            "Epoch 19/150\n",
            "102/102 [==============================] - 36s 355ms/step - loss: 2.0259 - accuracy: 0.3964 - val_loss: 2.1146 - val_accuracy: 0.3611\n",
            "Epoch 20/150\n",
            "102/102 [==============================] - 38s 374ms/step - loss: 1.9933 - accuracy: 0.4054 - val_loss: 2.0923 - val_accuracy: 0.3669\n",
            "Epoch 21/150\n",
            "102/102 [==============================] - 38s 376ms/step - loss: 1.9633 - accuracy: 0.4148 - val_loss: 2.0723 - val_accuracy: 0.3711\n",
            "Epoch 22/150\n",
            "102/102 [==============================] - 37s 362ms/step - loss: 1.9355 - accuracy: 0.4222 - val_loss: 2.0545 - val_accuracy: 0.3766\n",
            "Epoch 23/150\n",
            "102/102 [==============================] - 38s 375ms/step - loss: 1.9093 - accuracy: 0.4286 - val_loss: 2.0386 - val_accuracy: 0.3805\n",
            "Epoch 24/150\n",
            "102/102 [==============================] - 37s 365ms/step - loss: 1.8851 - accuracy: 0.4364 - val_loss: 2.0247 - val_accuracy: 0.3832\n",
            "Epoch 25/150\n",
            "102/102 [==============================] - 36s 358ms/step - loss: 1.8627 - accuracy: 0.4406 - val_loss: 2.0124 - val_accuracy: 0.3868\n",
            "Epoch 26/150\n",
            "102/102 [==============================] - 39s 381ms/step - loss: 1.8416 - accuracy: 0.4468 - val_loss: 2.0017 - val_accuracy: 0.3900\n",
            "Epoch 27/150\n",
            "102/102 [==============================] - 37s 367ms/step - loss: 1.8226 - accuracy: 0.4508 - val_loss: 1.9925 - val_accuracy: 0.3922\n",
            "Epoch 28/150\n",
            "102/102 [==============================] - 36s 358ms/step - loss: 1.8039 - accuracy: 0.4559 - val_loss: 1.9844 - val_accuracy: 0.3938\n",
            "Epoch 29/150\n",
            "102/102 [==============================] - 37s 367ms/step - loss: 1.7867 - accuracy: 0.4601 - val_loss: 1.9774 - val_accuracy: 0.3955\n",
            "Epoch 30/150\n",
            "102/102 [==============================] - 36s 357ms/step - loss: 1.7707 - accuracy: 0.4617 - val_loss: 1.9713 - val_accuracy: 0.3963\n",
            "Epoch 31/150\n",
            "102/102 [==============================] - 38s 373ms/step - loss: 1.7556 - accuracy: 0.4660 - val_loss: 1.9663 - val_accuracy: 0.3972\n",
            "Epoch 32/150\n",
            "102/102 [==============================] - 39s 378ms/step - loss: 1.7409 - accuracy: 0.4699 - val_loss: 1.9620 - val_accuracy: 0.3978\n",
            "Epoch 33/150\n",
            "102/102 [==============================] - 38s 377ms/step - loss: 1.7278 - accuracy: 0.4719 - val_loss: 1.9585 - val_accuracy: 0.3974\n",
            "Epoch 34/150\n",
            "102/102 [==============================] - 37s 361ms/step - loss: 1.7147 - accuracy: 0.4751 - val_loss: 1.9557 - val_accuracy: 0.3978\n",
            "Epoch 35/150\n",
            "102/102 [==============================] - 38s 374ms/step - loss: 1.7027 - accuracy: 0.4784 - val_loss: 1.9533 - val_accuracy: 0.3980\n",
            "Epoch 36/150\n",
            "102/102 [==============================] - 38s 372ms/step - loss: 1.6914 - accuracy: 0.4811 - val_loss: 1.9516 - val_accuracy: 0.3981\n",
            "Epoch 37/150\n",
            "102/102 [==============================] - 37s 368ms/step - loss: 1.6798 - accuracy: 0.4829 - val_loss: 1.9502 - val_accuracy: 0.3990\n",
            "Epoch 38/150\n",
            "102/102 [==============================] - 38s 372ms/step - loss: 1.6692 - accuracy: 0.4858 - val_loss: 1.9492 - val_accuracy: 0.3986\n",
            "Epoch 39/150\n",
            "102/102 [==============================] - 36s 358ms/step - loss: 1.6599 - accuracy: 0.4888 - val_loss: 1.9489 - val_accuracy: 0.3985\n",
            "Epoch 40/150\n",
            "102/102 [==============================] - 37s 359ms/step - loss: 1.6500 - accuracy: 0.4897 - val_loss: 1.9486 - val_accuracy: 0.3976\n",
            "Epoch 41/150\n",
            "102/102 [==============================] - 38s 371ms/step - loss: 1.6410 - accuracy: 0.4919 - val_loss: 1.9486 - val_accuracy: 0.3972\n",
            "Epoch 42/150\n",
            "102/102 [==============================] - 36s 352ms/step - loss: 1.6318 - accuracy: 0.4946 - val_loss: 1.9490 - val_accuracy: 0.3983\n",
            "Epoch 43/150\n",
            "102/102 [==============================] - 36s 354ms/step - loss: 1.6241 - accuracy: 0.4959 - val_loss: 1.9498 - val_accuracy: 0.3991\n",
            "Epoch 44/150\n",
            "102/102 [==============================] - 38s 373ms/step - loss: 1.6152 - accuracy: 0.4982 - val_loss: 1.9507 - val_accuracy: 0.3992\n",
            "Epoch 45/150\n",
            "102/102 [==============================] - 36s 355ms/step - loss: 1.6080 - accuracy: 0.5001 - val_loss: 1.9518 - val_accuracy: 0.3988\n",
            "407/407 [==============================] - 8s 19ms/step - loss: 1.9486 - accuracy: 0.3976\n",
            "Test Loss: 1.9486019611358643\n",
            "Test Accuracy: 0.39761537313461304\n"
          ]
        }
      ]
    },
    {
      "cell_type": "markdown",
      "source": [
        "Saving the Model"
      ],
      "metadata": {
        "id": "QcdAXzsAWFZU"
      }
    },
    {
      "cell_type": "code",
      "source": [
        "model.save('model_checkpoint.h5')"
      ],
      "metadata": {
        "id": "JmigZracWFsF"
      },
      "execution_count": null,
      "outputs": []
    },
    {
      "cell_type": "markdown",
      "source": [
        "Training in again for better accuracy"
      ],
      "metadata": {
        "id": "mmohPLUpWGZj"
      }
    },
    {
      "cell_type": "code",
      "source": [
        "loaded_model = load_model('model_checkpoint.h5')\n",
        "model.compile(loss='categorical_crossentropy', optimizer=optimizer, metrics=['accuracy'])\n",
        "loaded_model.fit(X_train_tfidf, y_train_categorical, validation_data=(X_test_tfidf, y_test_categorical), epochs=100, batch_size=512)\n",
        "\n",
        "loss1, accuracy1 = model.evaluate(X_test_tfidf, y_test_categorical)\n",
        "print(\"Test Loss:\", loss1)\n",
        "print(\"Test Accuracy:\", accuracy1)"
      ],
      "metadata": {
        "colab": {
          "base_uri": "https://localhost:8080/",
          "height": 1000
        },
        "id": "GPoVTVh7PaPM",
        "outputId": "2be55877-fe53-4ba5-9afb-7b1a2b85c218"
      },
      "execution_count": null,
      "outputs": [
        {
          "output_type": "stream",
          "name": "stdout",
          "text": [
            "Epoch 1/100\n",
            "102/102 [==============================] - 38s 360ms/step - loss: 1.6959 - accuracy: 0.4745 - val_loss: 1.9682 - val_accuracy: 0.3888\n",
            "Epoch 2/100\n",
            "102/102 [==============================] - 38s 371ms/step - loss: 1.6882 - accuracy: 0.4753 - val_loss: 1.9686 - val_accuracy: 0.3892\n",
            "Epoch 3/100\n",
            "102/102 [==============================] - 38s 372ms/step - loss: 1.6806 - accuracy: 0.4772 - val_loss: 1.9690 - val_accuracy: 0.3898\n",
            "Epoch 4/100\n",
            "102/102 [==============================] - 36s 355ms/step - loss: 1.6740 - accuracy: 0.4787 - val_loss: 1.9696 - val_accuracy: 0.3908\n",
            "Epoch 5/100\n",
            "102/102 [==============================] - 36s 352ms/step - loss: 1.6674 - accuracy: 0.4801 - val_loss: 1.9704 - val_accuracy: 0.3903\n",
            "Epoch 6/100\n",
            "102/102 [==============================] - 36s 354ms/step - loss: 1.6612 - accuracy: 0.4828 - val_loss: 1.9713 - val_accuracy: 0.3908\n",
            "Epoch 7/100\n",
            "102/102 [==============================] - 38s 376ms/step - loss: 1.6540 - accuracy: 0.4839 - val_loss: 1.9723 - val_accuracy: 0.3908\n",
            "Epoch 8/100\n",
            "102/102 [==============================] - 38s 377ms/step - loss: 1.6480 - accuracy: 0.4850 - val_loss: 1.9736 - val_accuracy: 0.3899\n",
            "Epoch 9/100\n",
            "102/102 [==============================] - 37s 364ms/step - loss: 1.6425 - accuracy: 0.4863 - val_loss: 1.9749 - val_accuracy: 0.3902\n",
            "Epoch 10/100\n",
            "102/102 [==============================] - 37s 364ms/step - loss: 1.6365 - accuracy: 0.4877 - val_loss: 1.9763 - val_accuracy: 0.3906\n",
            "Epoch 11/100\n",
            "102/102 [==============================] - 36s 352ms/step - loss: 1.6312 - accuracy: 0.4885 - val_loss: 1.9780 - val_accuracy: 0.3902\n",
            "Epoch 12/100\n",
            "102/102 [==============================] - 37s 364ms/step - loss: 1.6257 - accuracy: 0.4892 - val_loss: 1.9795 - val_accuracy: 0.3892\n",
            "Epoch 13/100\n",
            "102/102 [==============================] - 36s 355ms/step - loss: 1.6210 - accuracy: 0.4902 - val_loss: 1.9813 - val_accuracy: 0.3895\n",
            "Epoch 14/100\n",
            "102/102 [==============================] - 37s 364ms/step - loss: 1.6154 - accuracy: 0.4917 - val_loss: 1.9830 - val_accuracy: 0.3878\n",
            "Epoch 15/100\n",
            "102/102 [==============================] - 35s 340ms/step - loss: 1.6104 - accuracy: 0.4923 - val_loss: 1.9850 - val_accuracy: 0.3881\n",
            "Epoch 16/100\n",
            "102/102 [==============================] - 34s 336ms/step - loss: 1.6068 - accuracy: 0.4945 - val_loss: 1.9869 - val_accuracy: 0.3882\n",
            "Epoch 17/100\n",
            "102/102 [==============================] - 34s 338ms/step - loss: 1.6016 - accuracy: 0.4949 - val_loss: 1.9889 - val_accuracy: 0.3877\n",
            "Epoch 18/100\n",
            "102/102 [==============================] - 35s 338ms/step - loss: 1.5971 - accuracy: 0.4959 - val_loss: 1.9909 - val_accuracy: 0.3875\n",
            "Epoch 19/100\n",
            "102/102 [==============================] - 35s 342ms/step - loss: 1.5922 - accuracy: 0.4976 - val_loss: 1.9930 - val_accuracy: 0.3866\n",
            "Epoch 20/100\n",
            "102/102 [==============================] - 35s 342ms/step - loss: 1.5882 - accuracy: 0.4976 - val_loss: 1.9952 - val_accuracy: 0.3862\n",
            "Epoch 21/100\n",
            "102/102 [==============================] - 35s 345ms/step - loss: 1.5847 - accuracy: 0.4990 - val_loss: 1.9972 - val_accuracy: 0.3863\n",
            "Epoch 22/100\n",
            "102/102 [==============================] - 34s 337ms/step - loss: 1.5807 - accuracy: 0.5001 - val_loss: 1.9996 - val_accuracy: 0.3859\n",
            "Epoch 23/100\n",
            "102/102 [==============================] - 34s 336ms/step - loss: 1.5761 - accuracy: 0.5013 - val_loss: 2.0019 - val_accuracy: 0.3848\n",
            "Epoch 24/100\n",
            "102/102 [==============================] - 34s 338ms/step - loss: 1.5726 - accuracy: 0.5024 - val_loss: 2.0040 - val_accuracy: 0.3843\n",
            "Epoch 25/100\n",
            "102/102 [==============================] - 32s 316ms/step - loss: 1.5679 - accuracy: 0.5031 - val_loss: 2.0064 - val_accuracy: 0.3849\n",
            "Epoch 26/100\n",
            "102/102 [==============================] - 33s 321ms/step - loss: 1.5647 - accuracy: 0.5030 - val_loss: 2.0087 - val_accuracy: 0.3838\n",
            "Epoch 27/100\n",
            "102/102 [==============================] - 34s 335ms/step - loss: 1.5609 - accuracy: 0.5036 - val_loss: 2.0111 - val_accuracy: 0.3836\n",
            "Epoch 28/100\n",
            "102/102 [==============================] - 33s 324ms/step - loss: 1.5572 - accuracy: 0.5038 - val_loss: 2.0134 - val_accuracy: 0.3837\n",
            "Epoch 29/100\n",
            "102/102 [==============================] - 32s 313ms/step - loss: 1.5540 - accuracy: 0.5048 - val_loss: 2.0157 - val_accuracy: 0.3835\n",
            "Epoch 30/100\n",
            "102/102 [==============================] - 33s 323ms/step - loss: 1.5505 - accuracy: 0.5073 - val_loss: 2.0183 - val_accuracy: 0.3830\n",
            "Epoch 31/100\n",
            "102/102 [==============================] - 33s 324ms/step - loss: 1.5484 - accuracy: 0.5068 - val_loss: 2.0206 - val_accuracy: 0.3826\n",
            "Epoch 32/100\n",
            "102/102 [==============================] - 32s 313ms/step - loss: 1.5445 - accuracy: 0.5081 - val_loss: 2.0229 - val_accuracy: 0.3826\n",
            "Epoch 33/100\n",
            "102/102 [==============================] - 35s 344ms/step - loss: 1.5415 - accuracy: 0.5082 - val_loss: 2.0253 - val_accuracy: 0.3825\n",
            "Epoch 34/100\n",
            "102/102 [==============================] - 32s 319ms/step - loss: 1.5385 - accuracy: 0.5093 - val_loss: 2.0277 - val_accuracy: 0.3824\n",
            "Epoch 35/100\n",
            "102/102 [==============================] - 35s 344ms/step - loss: 1.5354 - accuracy: 0.5091 - val_loss: 2.0302 - val_accuracy: 0.3823\n",
            "Epoch 36/100\n",
            "102/102 [==============================] - 34s 337ms/step - loss: 1.5338 - accuracy: 0.5104 - val_loss: 2.0326 - val_accuracy: 0.3823\n",
            "Epoch 37/100\n",
            "102/102 [==============================] - 32s 314ms/step - loss: 1.5298 - accuracy: 0.5109 - val_loss: 2.0351 - val_accuracy: 0.3817\n",
            "Epoch 38/100\n",
            "102/102 [==============================] - 33s 322ms/step - loss: 1.5267 - accuracy: 0.5119 - val_loss: 2.0375 - val_accuracy: 0.3812\n",
            "Epoch 39/100\n",
            "102/102 [==============================] - 33s 324ms/step - loss: 1.5247 - accuracy: 0.5116 - val_loss: 2.0399 - val_accuracy: 0.3815\n",
            "Epoch 40/100\n",
            "102/102 [==============================] - 32s 314ms/step - loss: 1.5217 - accuracy: 0.5132 - val_loss: 2.0423 - val_accuracy: 0.3805\n",
            "Epoch 41/100\n",
            "102/102 [==============================] - 35s 342ms/step - loss: 1.5192 - accuracy: 0.5134 - val_loss: 2.0449 - val_accuracy: 0.3811\n",
            "Epoch 42/100\n",
            "102/102 [==============================] - 34s 335ms/step - loss: 1.5162 - accuracy: 0.5128 - val_loss: 2.0473 - val_accuracy: 0.3802\n",
            "Epoch 43/100\n",
            "102/102 [==============================] - 34s 334ms/step - loss: 1.5144 - accuracy: 0.5144 - val_loss: 2.0497 - val_accuracy: 0.3800\n",
            "Epoch 44/100\n",
            "102/102 [==============================] - 34s 331ms/step - loss: 1.5114 - accuracy: 0.5156 - val_loss: 2.0522 - val_accuracy: 0.3801\n",
            "Epoch 45/100\n",
            "102/102 [==============================] - 35s 340ms/step - loss: 1.5094 - accuracy: 0.5154 - val_loss: 2.0546 - val_accuracy: 0.3792\n",
            "Epoch 46/100\n",
            "102/102 [==============================] - 34s 338ms/step - loss: 1.5065 - accuracy: 0.5151 - val_loss: 2.0571 - val_accuracy: 0.3794\n",
            "Epoch 47/100\n",
            "102/102 [==============================] - 34s 337ms/step - loss: 1.5048 - accuracy: 0.5159 - val_loss: 2.0595 - val_accuracy: 0.3794\n",
            "Epoch 48/100\n",
            "102/102 [==============================] - 33s 326ms/step - loss: 1.5021 - accuracy: 0.5164 - val_loss: 2.0619 - val_accuracy: 0.3785\n",
            "Epoch 49/100\n",
            "102/102 [==============================] - 33s 329ms/step - loss: 1.4990 - accuracy: 0.5166 - val_loss: 2.0644 - val_accuracy: 0.3789\n",
            "Epoch 50/100\n",
            "102/102 [==============================] - 33s 323ms/step - loss: 1.4978 - accuracy: 0.5187 - val_loss: 2.0668 - val_accuracy: 0.3782\n",
            "Epoch 51/100\n",
            "102/102 [==============================] - 32s 316ms/step - loss: 1.4954 - accuracy: 0.5186 - val_loss: 2.0693 - val_accuracy: 0.3774\n",
            "Epoch 52/100\n",
            "102/102 [==============================] - 35s 343ms/step - loss: 1.4933 - accuracy: 0.5189 - val_loss: 2.0714 - val_accuracy: 0.3778\n",
            "Epoch 53/100\n",
            "102/102 [==============================] - 33s 324ms/step - loss: 1.4913 - accuracy: 0.5191 - val_loss: 2.0739 - val_accuracy: 0.3768\n",
            "Epoch 54/100\n",
            "102/102 [==============================] - 33s 323ms/step - loss: 1.4890 - accuracy: 0.5192 - val_loss: 2.0765 - val_accuracy: 0.3767\n",
            "Epoch 55/100\n",
            "102/102 [==============================] - 34s 338ms/step - loss: 1.4868 - accuracy: 0.5205 - val_loss: 2.0786 - val_accuracy: 0.3768\n",
            "Epoch 56/100\n",
            "102/102 [==============================] - 33s 322ms/step - loss: 1.4861 - accuracy: 0.5187 - val_loss: 2.0810 - val_accuracy: 0.3764\n",
            "Epoch 57/100\n",
            "  7/102 [=>............................] - ETA: 26s - loss: 1.4500 - accuracy: 0.5324"
          ]
        },
        {
          "output_type": "error",
          "ename": "KeyboardInterrupt",
          "evalue": "ignored",
          "traceback": [
            "\u001b[0;31m---------------------------------------------------------------------------\u001b[0m",
            "\u001b[0;31mKeyboardInterrupt\u001b[0m                         Traceback (most recent call last)",
            "\u001b[0;32m<ipython-input-76-256356893761>\u001b[0m in \u001b[0;36m<cell line: 3>\u001b[0;34m()\u001b[0m\n\u001b[1;32m      1\u001b[0m \u001b[0mloaded_model\u001b[0m \u001b[0;34m=\u001b[0m \u001b[0mload_model\u001b[0m\u001b[0;34m(\u001b[0m\u001b[0;34m'model_checkpoint.h5'\u001b[0m\u001b[0;34m)\u001b[0m\u001b[0;34m\u001b[0m\u001b[0;34m\u001b[0m\u001b[0m\n\u001b[1;32m      2\u001b[0m \u001b[0mmodel\u001b[0m\u001b[0;34m.\u001b[0m\u001b[0mcompile\u001b[0m\u001b[0;34m(\u001b[0m\u001b[0mloss\u001b[0m\u001b[0;34m=\u001b[0m\u001b[0;34m'categorical_crossentropy'\u001b[0m\u001b[0;34m,\u001b[0m \u001b[0moptimizer\u001b[0m\u001b[0;34m=\u001b[0m\u001b[0moptimizer\u001b[0m\u001b[0;34m,\u001b[0m \u001b[0mmetrics\u001b[0m\u001b[0;34m=\u001b[0m\u001b[0;34m[\u001b[0m\u001b[0;34m'accuracy'\u001b[0m\u001b[0;34m]\u001b[0m\u001b[0;34m)\u001b[0m\u001b[0;34m\u001b[0m\u001b[0;34m\u001b[0m\u001b[0m\n\u001b[0;32m----> 3\u001b[0;31m \u001b[0mloaded_model\u001b[0m\u001b[0;34m.\u001b[0m\u001b[0mfit\u001b[0m\u001b[0;34m(\u001b[0m\u001b[0mX_train_tfidf\u001b[0m\u001b[0;34m,\u001b[0m \u001b[0my_train_categorical\u001b[0m\u001b[0;34m,\u001b[0m \u001b[0mvalidation_data\u001b[0m\u001b[0;34m=\u001b[0m\u001b[0;34m(\u001b[0m\u001b[0mX_test_tfidf\u001b[0m\u001b[0;34m,\u001b[0m \u001b[0my_test_categorical\u001b[0m\u001b[0;34m)\u001b[0m\u001b[0;34m,\u001b[0m \u001b[0mepochs\u001b[0m\u001b[0;34m=\u001b[0m\u001b[0;36m100\u001b[0m\u001b[0;34m,\u001b[0m \u001b[0mbatch_size\u001b[0m\u001b[0;34m=\u001b[0m\u001b[0;36m512\u001b[0m\u001b[0;34m)\u001b[0m\u001b[0;34m\u001b[0m\u001b[0;34m\u001b[0m\u001b[0m\n\u001b[0m\u001b[1;32m      4\u001b[0m \u001b[0;34m\u001b[0m\u001b[0m\n\u001b[1;32m      5\u001b[0m \u001b[0mloss1\u001b[0m\u001b[0;34m,\u001b[0m \u001b[0maccuracy1\u001b[0m \u001b[0;34m=\u001b[0m \u001b[0mmodel\u001b[0m\u001b[0;34m.\u001b[0m\u001b[0mevaluate\u001b[0m\u001b[0;34m(\u001b[0m\u001b[0mX_test_tfidf\u001b[0m\u001b[0;34m,\u001b[0m \u001b[0my_test_categorical\u001b[0m\u001b[0;34m)\u001b[0m\u001b[0;34m\u001b[0m\u001b[0;34m\u001b[0m\u001b[0m\n",
            "\u001b[0;32m/usr/local/lib/python3.10/dist-packages/keras/utils/traceback_utils.py\u001b[0m in \u001b[0;36merror_handler\u001b[0;34m(*args, **kwargs)\u001b[0m\n\u001b[1;32m     63\u001b[0m         \u001b[0mfiltered_tb\u001b[0m \u001b[0;34m=\u001b[0m \u001b[0;32mNone\u001b[0m\u001b[0;34m\u001b[0m\u001b[0;34m\u001b[0m\u001b[0m\n\u001b[1;32m     64\u001b[0m         \u001b[0;32mtry\u001b[0m\u001b[0;34m:\u001b[0m\u001b[0;34m\u001b[0m\u001b[0;34m\u001b[0m\u001b[0m\n\u001b[0;32m---> 65\u001b[0;31m             \u001b[0;32mreturn\u001b[0m \u001b[0mfn\u001b[0m\u001b[0;34m(\u001b[0m\u001b[0;34m*\u001b[0m\u001b[0margs\u001b[0m\u001b[0;34m,\u001b[0m \u001b[0;34m**\u001b[0m\u001b[0mkwargs\u001b[0m\u001b[0;34m)\u001b[0m\u001b[0;34m\u001b[0m\u001b[0;34m\u001b[0m\u001b[0m\n\u001b[0m\u001b[1;32m     66\u001b[0m         \u001b[0;32mexcept\u001b[0m \u001b[0mException\u001b[0m \u001b[0;32mas\u001b[0m \u001b[0me\u001b[0m\u001b[0;34m:\u001b[0m\u001b[0;34m\u001b[0m\u001b[0;34m\u001b[0m\u001b[0m\n\u001b[1;32m     67\u001b[0m             \u001b[0mfiltered_tb\u001b[0m \u001b[0;34m=\u001b[0m \u001b[0m_process_traceback_frames\u001b[0m\u001b[0;34m(\u001b[0m\u001b[0me\u001b[0m\u001b[0;34m.\u001b[0m\u001b[0m__traceback__\u001b[0m\u001b[0;34m)\u001b[0m\u001b[0;34m\u001b[0m\u001b[0;34m\u001b[0m\u001b[0m\n",
            "\u001b[0;32m/usr/local/lib/python3.10/dist-packages/keras/engine/training.py\u001b[0m in \u001b[0;36mfit\u001b[0;34m(self, x, y, batch_size, epochs, verbose, callbacks, validation_split, validation_data, shuffle, class_weight, sample_weight, initial_epoch, steps_per_epoch, validation_steps, validation_batch_size, validation_freq, max_queue_size, workers, use_multiprocessing)\u001b[0m\n\u001b[1;32m   1683\u001b[0m                         ):\n\u001b[1;32m   1684\u001b[0m                             \u001b[0mcallbacks\u001b[0m\u001b[0;34m.\u001b[0m\u001b[0mon_train_batch_begin\u001b[0m\u001b[0;34m(\u001b[0m\u001b[0mstep\u001b[0m\u001b[0;34m)\u001b[0m\u001b[0;34m\u001b[0m\u001b[0;34m\u001b[0m\u001b[0m\n\u001b[0;32m-> 1685\u001b[0;31m                             \u001b[0mtmp_logs\u001b[0m \u001b[0;34m=\u001b[0m \u001b[0mself\u001b[0m\u001b[0;34m.\u001b[0m\u001b[0mtrain_function\u001b[0m\u001b[0;34m(\u001b[0m\u001b[0miterator\u001b[0m\u001b[0;34m)\u001b[0m\u001b[0;34m\u001b[0m\u001b[0;34m\u001b[0m\u001b[0m\n\u001b[0m\u001b[1;32m   1686\u001b[0m                             \u001b[0;32mif\u001b[0m \u001b[0mdata_handler\u001b[0m\u001b[0;34m.\u001b[0m\u001b[0mshould_sync\u001b[0m\u001b[0;34m:\u001b[0m\u001b[0;34m\u001b[0m\u001b[0;34m\u001b[0m\u001b[0m\n\u001b[1;32m   1687\u001b[0m                                 \u001b[0mcontext\u001b[0m\u001b[0;34m.\u001b[0m\u001b[0masync_wait\u001b[0m\u001b[0;34m(\u001b[0m\u001b[0;34m)\u001b[0m\u001b[0;34m\u001b[0m\u001b[0;34m\u001b[0m\u001b[0m\n",
            "\u001b[0;32m/usr/local/lib/python3.10/dist-packages/tensorflow/python/util/traceback_utils.py\u001b[0m in \u001b[0;36merror_handler\u001b[0;34m(*args, **kwargs)\u001b[0m\n\u001b[1;32m    148\u001b[0m     \u001b[0mfiltered_tb\u001b[0m \u001b[0;34m=\u001b[0m \u001b[0;32mNone\u001b[0m\u001b[0;34m\u001b[0m\u001b[0;34m\u001b[0m\u001b[0m\n\u001b[1;32m    149\u001b[0m     \u001b[0;32mtry\u001b[0m\u001b[0;34m:\u001b[0m\u001b[0;34m\u001b[0m\u001b[0;34m\u001b[0m\u001b[0m\n\u001b[0;32m--> 150\u001b[0;31m       \u001b[0;32mreturn\u001b[0m \u001b[0mfn\u001b[0m\u001b[0;34m(\u001b[0m\u001b[0;34m*\u001b[0m\u001b[0margs\u001b[0m\u001b[0;34m,\u001b[0m \u001b[0;34m**\u001b[0m\u001b[0mkwargs\u001b[0m\u001b[0;34m)\u001b[0m\u001b[0;34m\u001b[0m\u001b[0;34m\u001b[0m\u001b[0m\n\u001b[0m\u001b[1;32m    151\u001b[0m     \u001b[0;32mexcept\u001b[0m \u001b[0mException\u001b[0m \u001b[0;32mas\u001b[0m \u001b[0me\u001b[0m\u001b[0;34m:\u001b[0m\u001b[0;34m\u001b[0m\u001b[0;34m\u001b[0m\u001b[0m\n\u001b[1;32m    152\u001b[0m       \u001b[0mfiltered_tb\u001b[0m \u001b[0;34m=\u001b[0m \u001b[0m_process_traceback_frames\u001b[0m\u001b[0;34m(\u001b[0m\u001b[0me\u001b[0m\u001b[0;34m.\u001b[0m\u001b[0m__traceback__\u001b[0m\u001b[0;34m)\u001b[0m\u001b[0;34m\u001b[0m\u001b[0;34m\u001b[0m\u001b[0m\n",
            "\u001b[0;32m/usr/local/lib/python3.10/dist-packages/tensorflow/python/eager/polymorphic_function/polymorphic_function.py\u001b[0m in \u001b[0;36m__call__\u001b[0;34m(self, *args, **kwds)\u001b[0m\n\u001b[1;32m    892\u001b[0m \u001b[0;34m\u001b[0m\u001b[0m\n\u001b[1;32m    893\u001b[0m       \u001b[0;32mwith\u001b[0m \u001b[0mOptionalXlaContext\u001b[0m\u001b[0;34m(\u001b[0m\u001b[0mself\u001b[0m\u001b[0;34m.\u001b[0m\u001b[0m_jit_compile\u001b[0m\u001b[0;34m)\u001b[0m\u001b[0;34m:\u001b[0m\u001b[0;34m\u001b[0m\u001b[0;34m\u001b[0m\u001b[0m\n\u001b[0;32m--> 894\u001b[0;31m         \u001b[0mresult\u001b[0m \u001b[0;34m=\u001b[0m \u001b[0mself\u001b[0m\u001b[0;34m.\u001b[0m\u001b[0m_call\u001b[0m\u001b[0;34m(\u001b[0m\u001b[0;34m*\u001b[0m\u001b[0margs\u001b[0m\u001b[0;34m,\u001b[0m \u001b[0;34m**\u001b[0m\u001b[0mkwds\u001b[0m\u001b[0;34m)\u001b[0m\u001b[0;34m\u001b[0m\u001b[0;34m\u001b[0m\u001b[0m\n\u001b[0m\u001b[1;32m    895\u001b[0m \u001b[0;34m\u001b[0m\u001b[0m\n\u001b[1;32m    896\u001b[0m       \u001b[0mnew_tracing_count\u001b[0m \u001b[0;34m=\u001b[0m \u001b[0mself\u001b[0m\u001b[0;34m.\u001b[0m\u001b[0mexperimental_get_tracing_count\u001b[0m\u001b[0;34m(\u001b[0m\u001b[0;34m)\u001b[0m\u001b[0;34m\u001b[0m\u001b[0;34m\u001b[0m\u001b[0m\n",
            "\u001b[0;32m/usr/local/lib/python3.10/dist-packages/tensorflow/python/eager/polymorphic_function/polymorphic_function.py\u001b[0m in \u001b[0;36m_call\u001b[0;34m(self, *args, **kwds)\u001b[0m\n\u001b[1;32m    931\u001b[0m       \u001b[0;31m# In this case we have not created variables on the first call. So we can\u001b[0m\u001b[0;34m\u001b[0m\u001b[0;34m\u001b[0m\u001b[0m\n\u001b[1;32m    932\u001b[0m       \u001b[0;31m# run the first trace but we should fail if variables are created.\u001b[0m\u001b[0;34m\u001b[0m\u001b[0;34m\u001b[0m\u001b[0m\n\u001b[0;32m--> 933\u001b[0;31m       \u001b[0mresults\u001b[0m \u001b[0;34m=\u001b[0m \u001b[0mself\u001b[0m\u001b[0;34m.\u001b[0m\u001b[0m_variable_creation_fn\u001b[0m\u001b[0;34m(\u001b[0m\u001b[0;34m*\u001b[0m\u001b[0margs\u001b[0m\u001b[0;34m,\u001b[0m \u001b[0;34m**\u001b[0m\u001b[0mkwds\u001b[0m\u001b[0;34m)\u001b[0m\u001b[0;34m\u001b[0m\u001b[0;34m\u001b[0m\u001b[0m\n\u001b[0m\u001b[1;32m    934\u001b[0m       \u001b[0;32mif\u001b[0m \u001b[0mself\u001b[0m\u001b[0;34m.\u001b[0m\u001b[0m_created_variables\u001b[0m \u001b[0;32mand\u001b[0m \u001b[0;32mnot\u001b[0m \u001b[0mALLOW_DYNAMIC_VARIABLE_CREATION\u001b[0m\u001b[0;34m:\u001b[0m\u001b[0;34m\u001b[0m\u001b[0;34m\u001b[0m\u001b[0m\n\u001b[1;32m    935\u001b[0m         raise ValueError(\"Creating variables on a non-first call to a function\"\n",
            "\u001b[0;32m/usr/local/lib/python3.10/dist-packages/tensorflow/python/eager/polymorphic_function/tracing_compiler.py\u001b[0m in \u001b[0;36m__call__\u001b[0;34m(self, *args, **kwargs)\u001b[0m\n\u001b[1;32m    141\u001b[0m       (concrete_function,\n\u001b[1;32m    142\u001b[0m        filtered_flat_args) = self._maybe_define_function(args, kwargs)\n\u001b[0;32m--> 143\u001b[0;31m     return concrete_function._call_flat(\n\u001b[0m\u001b[1;32m    144\u001b[0m         filtered_flat_args, captured_inputs=concrete_function.captured_inputs)  # pylint: disable=protected-access\n\u001b[1;32m    145\u001b[0m \u001b[0;34m\u001b[0m\u001b[0m\n",
            "\u001b[0;32m/usr/local/lib/python3.10/dist-packages/tensorflow/python/eager/polymorphic_function/monomorphic_function.py\u001b[0m in \u001b[0;36m_call_flat\u001b[0;34m(self, args, captured_inputs, cancellation_manager)\u001b[0m\n\u001b[1;32m   1755\u001b[0m         and executing_eagerly):\n\u001b[1;32m   1756\u001b[0m       \u001b[0;31m# No tape is watching; skip to running the function.\u001b[0m\u001b[0;34m\u001b[0m\u001b[0;34m\u001b[0m\u001b[0m\n\u001b[0;32m-> 1757\u001b[0;31m       return self._build_call_outputs(self._inference_function.call(\n\u001b[0m\u001b[1;32m   1758\u001b[0m           ctx, args, cancellation_manager=cancellation_manager))\n\u001b[1;32m   1759\u001b[0m     forward_backward = self._select_forward_and_backward_functions(\n",
            "\u001b[0;32m/usr/local/lib/python3.10/dist-packages/tensorflow/python/eager/polymorphic_function/monomorphic_function.py\u001b[0m in \u001b[0;36mcall\u001b[0;34m(self, ctx, args, cancellation_manager)\u001b[0m\n\u001b[1;32m    379\u001b[0m       \u001b[0;32mwith\u001b[0m \u001b[0m_InterpolateFunctionError\u001b[0m\u001b[0;34m(\u001b[0m\u001b[0mself\u001b[0m\u001b[0;34m)\u001b[0m\u001b[0;34m:\u001b[0m\u001b[0;34m\u001b[0m\u001b[0;34m\u001b[0m\u001b[0m\n\u001b[1;32m    380\u001b[0m         \u001b[0;32mif\u001b[0m \u001b[0mcancellation_manager\u001b[0m \u001b[0;32mis\u001b[0m \u001b[0;32mNone\u001b[0m\u001b[0;34m:\u001b[0m\u001b[0;34m\u001b[0m\u001b[0;34m\u001b[0m\u001b[0m\n\u001b[0;32m--> 381\u001b[0;31m           outputs = execute.execute(\n\u001b[0m\u001b[1;32m    382\u001b[0m               \u001b[0mstr\u001b[0m\u001b[0;34m(\u001b[0m\u001b[0mself\u001b[0m\u001b[0;34m.\u001b[0m\u001b[0msignature\u001b[0m\u001b[0;34m.\u001b[0m\u001b[0mname\u001b[0m\u001b[0;34m)\u001b[0m\u001b[0;34m,\u001b[0m\u001b[0;34m\u001b[0m\u001b[0;34m\u001b[0m\u001b[0m\n\u001b[1;32m    383\u001b[0m               \u001b[0mnum_outputs\u001b[0m\u001b[0;34m=\u001b[0m\u001b[0mself\u001b[0m\u001b[0;34m.\u001b[0m\u001b[0m_num_outputs\u001b[0m\u001b[0;34m,\u001b[0m\u001b[0;34m\u001b[0m\u001b[0;34m\u001b[0m\u001b[0m\n",
            "\u001b[0;32m/usr/local/lib/python3.10/dist-packages/tensorflow/python/eager/execute.py\u001b[0m in \u001b[0;36mquick_execute\u001b[0;34m(op_name, num_outputs, inputs, attrs, ctx, name)\u001b[0m\n\u001b[1;32m     50\u001b[0m   \u001b[0;32mtry\u001b[0m\u001b[0;34m:\u001b[0m\u001b[0;34m\u001b[0m\u001b[0;34m\u001b[0m\u001b[0m\n\u001b[1;32m     51\u001b[0m     \u001b[0mctx\u001b[0m\u001b[0;34m.\u001b[0m\u001b[0mensure_initialized\u001b[0m\u001b[0;34m(\u001b[0m\u001b[0;34m)\u001b[0m\u001b[0;34m\u001b[0m\u001b[0;34m\u001b[0m\u001b[0m\n\u001b[0;32m---> 52\u001b[0;31m     tensors = pywrap_tfe.TFE_Py_Execute(ctx._handle, device_name, op_name,\n\u001b[0m\u001b[1;32m     53\u001b[0m                                         inputs, attrs, num_outputs)\n\u001b[1;32m     54\u001b[0m   \u001b[0;32mexcept\u001b[0m \u001b[0mcore\u001b[0m\u001b[0;34m.\u001b[0m\u001b[0m_NotOkStatusException\u001b[0m \u001b[0;32mas\u001b[0m \u001b[0me\u001b[0m\u001b[0;34m:\u001b[0m\u001b[0;34m\u001b[0m\u001b[0;34m\u001b[0m\u001b[0m\n",
            "\u001b[0;31mKeyboardInterrupt\u001b[0m: "
          ]
        }
      ]
    }
  ]
}